{
 "cells": [
  {
   "cell_type": "code",
   "execution_count": null,
   "id": "physical-story",
   "metadata": {},
   "outputs": [],
   "source": [
    "import warnings\n",
    "warnings.filterwarnings(\"ignore\")\n",
    "\n",
    "from model import ReceiptOCR_DefaultModel\n",
    "from engine import ReceiptOCR_DefaultEngine"
   ]
  },
  {
   "cell_type": "markdown",
   "id": "spread-liabilities",
   "metadata": {},
   "source": [
    "## Load model network and weight"
   ]
  },
  {
   "cell_type": "code",
   "execution_count": null,
   "id": "turned-aquatic",
   "metadata": {},
   "outputs": [],
   "source": [
    "detector_cfg = 'text_detector/craft_config.yaml'\n",
    "recognizer_cfg = 'text_recognizer/star_config.yaml'\n",
    "\n",
    "model = ReceiptOCR_DefaultModel(detector_cfg, recognizer_cfg)"
   ]
  },
  {
   "cell_type": "markdown",
   "id": "bright-reproduction",
   "metadata": {},
   "source": [
    "## Load Engine"
   ]
  },
  {
   "cell_type": "code",
   "execution_count": null,
   "id": "virtual-latino",
   "metadata": {},
   "outputs": [],
   "source": [
    "engine = ReceiptOCR_DefaultEngine(model)"
   ]
  },
  {
   "cell_type": "code",
   "execution_count": null,
   "id": "existing-chinese",
   "metadata": {},
   "outputs": [],
   "source": [
    "engine.predict('tes.jpeg')"
   ]
  },
  {
   "cell_type": "code",
   "execution_count": null,
   "id": "experimental-dancing",
   "metadata": {
    "scrolled": true
   },
   "outputs": [],
   "source": [
    "engine.raw_output"
   ]
  },
  {
   "cell_type": "code",
   "execution_count": null,
   "id": "proved-personality",
   "metadata": {
    "scrolled": true
   },
   "outputs": [],
   "source": [
    "engine.result"
   ]
  },
  {
   "cell_type": "code",
   "execution_count": null,
   "id": "valued-heather",
   "metadata": {},
   "outputs": [],
   "source": []
  }
 ],
 "metadata": {
  "kernelspec": {
   "display_name": "Python [conda env:receipt-ocr]",
   "language": "python",
   "name": "conda-env-receipt-ocr-py"
  },
  "language_info": {
   "codemirror_mode": {
    "name": "ipython",
    "version": 3
   },
   "file_extension": ".py",
   "mimetype": "text/x-python",
   "name": "python",
   "nbconvert_exporter": "python",
   "pygments_lexer": "ipython3",
   "version": "3.9.7"
  }
 },
 "nbformat": 4,
 "nbformat_minor": 5
}
