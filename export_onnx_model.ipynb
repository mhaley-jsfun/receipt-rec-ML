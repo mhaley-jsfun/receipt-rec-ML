{
 "cells": [
  {
   "cell_type": "code",
   "execution_count": 1,
   "id": "civilian-reception",
   "metadata": {},
   "outputs": [],
   "source": [
    "import warnings\n",
    "import onnx\n",
    "import torch\n",
    "import torch.onnx\n",
    "warnings.filterwarnings(\"ignore\")\n",
    "\n",
    "from src.model import ReceiptOCR_DefaultModel"
   ]
  },
  {
   "cell_type": "code",
   "execution_count": 2,
   "id": "owned-argentina",
   "metadata": {},
   "outputs": [
    {
     "name": "stdout",
     "output_type": "stream",
     "text": [
      "cpu\n"
     ]
    }
   ],
   "source": [
    "device = torch.device('cuda') if torch.cuda.is_available() else torch.device('cpu')\n",
    "print(device)"
   ]
  },
  {
   "cell_type": "markdown",
   "id": "junior-memorial",
   "metadata": {},
   "source": [
    "## Load model network and weight"
   ]
  },
  {
   "cell_type": "code",
   "execution_count": 3,
   "id": "cognitive-float",
   "metadata": {},
   "outputs": [
    {
     "name": "stdout",
     "output_type": "stream",
     "text": [
      "Loading weights from checkpoint (models/text_detector/craft_mlt_25k.pth)\n",
      "Loading weights from checkpoint (models/text_recognizer/TPS-ResNet-BiLSTM-Attn-case-sensitive.pth)\n"
     ]
    }
   ],
   "source": [
    "detector_cfg = 'configs/craft_config.yaml'\n",
    "recognizer_cfg = 'configs/star_config.yaml'\n",
    "\n",
    "model = ReceiptOCR_DefaultModel(detector_cfg, recognizer_cfg)"
   ]
  },
  {
   "cell_type": "markdown",
   "id": "private-cooling",
   "metadata": {},
   "source": [
    "# Detector"
   ]
  },
  {
   "cell_type": "markdown",
   "id": "precious-settlement",
   "metadata": {},
   "source": [
    "## Exporter Model\n",
    "Batch Size X Channel X Height X Width"
   ]
  },
  {
   "cell_type": "code",
   "execution_count": 4,
   "id": "framed-container",
   "metadata": {},
   "outputs": [],
   "source": [
    "detector_dummy_input = torch.randn(1, 3, 1280, 720)"
   ]
  },
  {
   "cell_type": "code",
   "execution_count": 5,
   "id": "western-sister",
   "metadata": {
    "scrolled": true
   },
   "outputs": [
    {
     "data": {
      "text/plain": [
       "(tensor([[[[0.0010, 0.0002],\n",
       "           [0.0263, 0.0034],\n",
       "           [0.0010, 0.0002],\n",
       "           ...,\n",
       "           [0.0010, 0.0002],\n",
       "           [0.0010, 0.0002],\n",
       "           [0.0010, 0.0002]],\n",
       " \n",
       "          [[0.0010, 0.0002],\n",
       "           [0.0017, 0.0003],\n",
       "           [0.0010, 0.0002],\n",
       "           ...,\n",
       "           [0.0010, 0.0002],\n",
       "           [0.0010, 0.0002],\n",
       "           [0.0010, 0.0002]],\n",
       " \n",
       "          [[0.0010, 0.0002],\n",
       "           [0.0010, 0.0002],\n",
       "           [0.0010, 0.0002],\n",
       "           ...,\n",
       "           [0.0010, 0.0002],\n",
       "           [0.0010, 0.0002],\n",
       "           [0.0010, 0.0002]],\n",
       " \n",
       "          ...,\n",
       " \n",
       "          [[0.0010, 0.0002],\n",
       "           [0.0010, 0.0002],\n",
       "           [0.0010, 0.0002],\n",
       "           ...,\n",
       "           [0.0010, 0.0002],\n",
       "           [0.0010, 0.0002],\n",
       "           [0.0010, 0.0002]],\n",
       " \n",
       "          [[0.0014, 0.0003],\n",
       "           [0.0010, 0.0002],\n",
       "           [0.0010, 0.0002],\n",
       "           ...,\n",
       "           [0.0010, 0.0002],\n",
       "           [0.0010, 0.0002],\n",
       "           [0.0072, 0.0023]],\n",
       " \n",
       "          [[0.0086, 0.0058],\n",
       "           [0.0013, 0.0017],\n",
       "           [0.0078, 0.0017],\n",
       "           ...,\n",
       "           [0.0096, 0.0031],\n",
       "           [0.0010, 0.0002],\n",
       "           [0.0130, 0.0110]]]], grad_fn=<PermuteBackward>),\n",
       " tensor([[[[0.0000, 0.0000, 0.0000,  ..., 0.0000, 0.0000, 0.0000],\n",
       "           [0.0145, 0.0000, 0.2128,  ..., 0.0000, 0.0000, 0.0000],\n",
       "           [0.0000, 0.0000, 0.1603,  ..., 0.0000, 0.0000, 0.0000],\n",
       "           ...,\n",
       "           [0.0000, 0.0000, 0.2603,  ..., 1.2865, 1.2894, 1.3414],\n",
       "           [0.0000, 0.0000, 0.3064,  ..., 1.4696, 1.3822, 1.4637],\n",
       "           [0.0000, 0.0000, 0.2071,  ..., 0.9830, 0.9365, 1.0742]],\n",
       " \n",
       "          [[0.1013, 0.0000, 0.0000,  ..., 0.0000, 0.0000, 0.1748],\n",
       "           [0.1654, 0.0000, 0.0000,  ..., 0.0000, 0.0000, 0.0000],\n",
       "           [0.1198, 0.0000, 0.0000,  ..., 0.0000, 0.0000, 0.0495],\n",
       "           ...,\n",
       "           [0.0000, 0.0000, 0.0000,  ..., 0.0000, 0.0000, 0.0000],\n",
       "           [0.0000, 0.0000, 0.0000,  ..., 0.0000, 0.0000, 0.0000],\n",
       "           [0.0000, 0.0000, 0.0000,  ..., 0.0000, 0.0000, 0.1705]],\n",
       " \n",
       "          [[1.1334, 0.3989, 0.7479,  ..., 0.3359, 0.2863, 0.5191],\n",
       "           [1.2443, 0.3805, 0.7156,  ..., 0.8461, 0.9587, 1.2152],\n",
       "           [1.2978, 0.7537, 0.7366,  ..., 1.0047, 1.1240, 1.3903],\n",
       "           ...,\n",
       "           [0.0000, 0.0000, 0.0000,  ..., 0.0000, 0.2139, 2.1681],\n",
       "           [0.0000, 0.0000, 0.0000,  ..., 0.1973, 0.4488, 1.9820],\n",
       "           [0.0000, 0.0000, 0.0000,  ..., 0.1119, 0.2675, 1.1499]],\n",
       " \n",
       "          ...,\n",
       " \n",
       "          [[0.0000, 0.0000, 0.1463,  ..., 0.0000, 0.0000, 0.0000],\n",
       "           [0.0359, 0.3924, 0.5515,  ..., 0.0000, 0.0000, 0.0000],\n",
       "           [0.0000, 0.1522, 0.2707,  ..., 0.0000, 0.0000, 0.0000],\n",
       "           ...,\n",
       "           [0.7434, 1.3873, 1.9060,  ..., 2.9168, 2.4698, 1.2968],\n",
       "           [0.5275, 0.9001, 1.1830,  ..., 2.1000, 1.7786, 1.1563],\n",
       "           [0.5118, 0.6713, 0.8432,  ..., 1.2755, 1.0821, 0.7773]],\n",
       " \n",
       "          [[0.2505, 0.0000, 0.0000,  ..., 0.0716, 0.0143, 0.0000],\n",
       "           [0.0065, 0.0000, 0.0000,  ..., 0.0000, 0.0000, 0.0000],\n",
       "           [0.0248, 0.0000, 0.0000,  ..., 0.0000, 0.0000, 0.0000],\n",
       "           ...,\n",
       "           [0.0000, 0.0000, 0.0000,  ..., 0.0000, 0.0000, 0.0000],\n",
       "           [0.0000, 0.0000, 0.0000,  ..., 0.0000, 0.0000, 0.0000],\n",
       "           [0.0000, 0.0000, 0.0000,  ..., 0.0000, 0.0000, 0.0000]],\n",
       " \n",
       "          [[0.0636, 0.0000, 0.0000,  ..., 0.2124, 0.2231, 0.4721],\n",
       "           [0.0000, 0.0000, 0.0076,  ..., 0.0000, 0.0000, 0.2538],\n",
       "           [0.0000, 0.0000, 0.0264,  ..., 0.0000, 0.0794, 0.4327],\n",
       "           ...,\n",
       "           [0.0000, 0.0000, 0.0000,  ..., 0.0000, 0.0000, 0.0000],\n",
       "           [0.0000, 0.0000, 0.0000,  ..., 0.0000, 0.0000, 0.0000],\n",
       "           [0.0000, 0.0000, 0.0000,  ..., 0.0870, 0.2057, 0.5421]]]],\n",
       "        grad_fn=<ReluBackward1>))"
      ]
     },
     "execution_count": 5,
     "metadata": {},
     "output_type": "execute_result"
    }
   ],
   "source": [
    "model.detector(detector_dummy_input)"
   ]
  },
  {
   "cell_type": "code",
   "execution_count": 6,
   "id": "republican-institute",
   "metadata": {},
   "outputs": [],
   "source": [
    "out_detector_model = 'models/text_detector/craft.onnx'"
   ]
  },
  {
   "cell_type": "code",
   "execution_count": 7,
   "id": "fresh-meter",
   "metadata": {},
   "outputs": [],
   "source": [
    "# Export the model\n",
    "torch.onnx.export(model.detector,            \n",
    "                  detector_dummy_input,\n",
    "                  out_detector_model,\n",
    "                  export_params=True,\n",
    "                  opset_version=13,\n",
    "                  do_constant_folding=True,\n",
    "                  input_names = ['input'],\n",
    "                  output_names = ['output'],\n",
    "                  dynamic_axes={'input' : {0:'batch_size', 2:'height', 3:'width'},\n",
    "                                'output' : {0:'batch_size'}})"
   ]
  },
  {
   "cell_type": "markdown",
   "id": "speaking-healthcare",
   "metadata": {},
   "source": [
    "## Inspecting Model"
   ]
  },
  {
   "cell_type": "code",
   "execution_count": 8,
   "id": "signed-cleanup",
   "metadata": {
    "scrolled": true
   },
   "outputs": [
    {
     "name": "stdout",
     "output_type": "stream",
     "text": [
      "graph torch-jit-export (\n",
      "  %input[FLOAT, batch_sizex3xheightxwidth]\n",
      ") initializers (\n",
      "  %basenet.slice5.1.weight[FLOAT, 1024x512x3x3]\n",
      "  %basenet.slice5.1.bias[FLOAT, 1024]\n",
      "  %basenet.slice5.2.weight[FLOAT, 1024x1024x1x1]\n",
      "  %basenet.slice5.2.bias[FLOAT, 1024]\n",
      "  %conv_cls.0.weight[FLOAT, 32x32x3x3]\n",
      "  %conv_cls.0.bias[FLOAT, 32]\n",
      "  %conv_cls.2.weight[FLOAT, 32x32x3x3]\n",
      "  %conv_cls.2.bias[FLOAT, 32]\n",
      "  %conv_cls.4.weight[FLOAT, 16x32x3x3]\n",
      "  %conv_cls.4.bias[FLOAT, 16]\n",
      "  %conv_cls.6.weight[FLOAT, 16x16x1x1]\n",
      "  %conv_cls.6.bias[FLOAT, 16]\n",
      "  %conv_cls.8.weight[FLOAT, 2x16x1x1]\n",
      "  %conv_cls.8.bias[FLOAT, 2]\n",
      "  %299[FLOAT, 64x3x3x3]\n",
      "  %300[FLOAT, 64]\n",
      "  %302[FLOAT, 64x64x3x3]\n",
      "  %303[FLOAT, 64]\n",
      "  %305[FLOAT, 128x64x3x3]\n",
      "  %306[FLOAT, 128]\n",
      "  %308[FLOAT, 128x128x3x3]\n",
      "  %309[FLOAT, 128]\n",
      "  %311[FLOAT, 256x128x3x3]\n",
      "  %312[FLOAT, 256]\n",
      "  %314[FLOAT, 256x256x3x3]\n",
      "  %315[FLOAT, 256]\n",
      "  %317[FLOAT, 256x256x3x3]\n",
      "  %318[FLOAT, 256]\n",
      "  %320[FLOAT, 512x256x3x3]\n",
      "  %321[FLOAT, 512]\n",
      "  %323[FLOAT, 512x512x3x3]\n",
      "  %324[FLOAT, 512]\n",
      "  %326[FLOAT, 512x512x3x3]\n",
      "  %327[FLOAT, 512]\n",
      "  %329[FLOAT, 512x512x3x3]\n",
      "  %330[FLOAT, 512]\n",
      "  %332[FLOAT, 512x512x3x3]\n",
      "  %333[FLOAT, 512]\n",
      "  %335[FLOAT, 512x1536x1x1]\n",
      "  %336[FLOAT, 512]\n",
      "  %338[FLOAT, 256x512x3x3]\n",
      "  %339[FLOAT, 256]\n",
      "  %341[FLOAT, 256x768x1x1]\n",
      "  %342[FLOAT, 256]\n",
      "  %344[FLOAT, 128x256x3x3]\n",
      "  %345[FLOAT, 128]\n",
      "  %347[FLOAT, 128x384x1x1]\n",
      "  %348[FLOAT, 128]\n",
      "  %350[FLOAT, 64x128x3x3]\n",
      "  %351[FLOAT, 64]\n",
      "  %353[FLOAT, 64x192x1x1]\n",
      "  %354[FLOAT, 64]\n",
      "  %356[FLOAT, 32x64x3x3]\n",
      "  %357[FLOAT, 32]\n",
      ") {\n",
      "  %298 = Conv[dilations = [1, 1], group = 1, kernel_shape = [3, 3], pads = [1, 1, 1, 1], strides = [1, 1]](%input, %299, %300)\n",
      "  %157 = Relu(%298)\n",
      "  %301 = Conv[dilations = [1, 1], group = 1, kernel_shape = [3, 3], pads = [1, 1, 1, 1], strides = [1, 1]](%157, %302, %303)\n",
      "  %160 = Relu(%301)\n",
      "  %161 = MaxPool[ceil_mode = 0, kernel_shape = [2, 2], pads = [0, 0, 0, 0], strides = [2, 2]](%160)\n",
      "  %304 = Conv[dilations = [1, 1], group = 1, kernel_shape = [3, 3], pads = [1, 1, 1, 1], strides = [1, 1]](%161, %305, %306)\n",
      "  %164 = Relu(%304)\n",
      "  %307 = Conv[dilations = [1, 1], group = 1, kernel_shape = [3, 3], pads = [1, 1, 1, 1], strides = [1, 1]](%164, %308, %309)\n",
      "  %167 = Relu(%307)\n",
      "  %168 = MaxPool[ceil_mode = 0, kernel_shape = [2, 2], pads = [0, 0, 0, 0], strides = [2, 2]](%167)\n",
      "  %310 = Conv[dilations = [1, 1], group = 1, kernel_shape = [3, 3], pads = [1, 1, 1, 1], strides = [1, 1]](%168, %311, %312)\n",
      "  %171 = Relu(%310)\n",
      "  %313 = Conv[dilations = [1, 1], group = 1, kernel_shape = [3, 3], pads = [1, 1, 1, 1], strides = [1, 1]](%171, %314, %315)\n",
      "  %174 = Relu(%313)\n",
      "  %316 = Conv[dilations = [1, 1], group = 1, kernel_shape = [3, 3], pads = [1, 1, 1, 1], strides = [1, 1]](%174, %317, %318)\n",
      "  %177 = Relu(%316)\n",
      "  %178 = MaxPool[ceil_mode = 0, kernel_shape = [2, 2], pads = [0, 0, 0, 0], strides = [2, 2]](%177)\n",
      "  %319 = Conv[dilations = [1, 1], group = 1, kernel_shape = [3, 3], pads = [1, 1, 1, 1], strides = [1, 1]](%178, %320, %321)\n",
      "  %181 = Relu(%319)\n",
      "  %322 = Conv[dilations = [1, 1], group = 1, kernel_shape = [3, 3], pads = [1, 1, 1, 1], strides = [1, 1]](%181, %323, %324)\n",
      "  %184 = Relu(%322)\n",
      "  %325 = Conv[dilations = [1, 1], group = 1, kernel_shape = [3, 3], pads = [1, 1, 1, 1], strides = [1, 1]](%184, %326, %327)\n",
      "  %187 = Relu(%325)\n",
      "  %188 = MaxPool[ceil_mode = 0, kernel_shape = [2, 2], pads = [0, 0, 0, 0], strides = [2, 2]](%187)\n",
      "  %328 = Conv[dilations = [1, 1], group = 1, kernel_shape = [3, 3], pads = [1, 1, 1, 1], strides = [1, 1]](%188, %329, %330)\n",
      "  %191 = Relu(%328)\n",
      "  %331 = Conv[dilations = [1, 1], group = 1, kernel_shape = [3, 3], pads = [1, 1, 1, 1], strides = [1, 1]](%191, %332, %333)\n",
      "  %194 = MaxPool[ceil_mode = 0, kernel_shape = [3, 3], pads = [1, 1, 1, 1], strides = [1, 1]](%331)\n",
      "  %195 = Conv[dilations = [6, 6], group = 1, kernel_shape = [3, 3], pads = [6, 6, 6, 6], strides = [1, 1]](%194, %basenet.slice5.1.weight, %basenet.slice5.1.bias)\n",
      "  %196 = Conv[dilations = [1, 1], group = 1, kernel_shape = [1, 1], pads = [0, 0, 0, 0], strides = [1, 1]](%195, %basenet.slice5.2.weight, %basenet.slice5.2.bias)\n",
      "  %197 = Concat[axis = 1](%196, %331)\n",
      "  %334 = Conv[dilations = [1, 1], group = 1, kernel_shape = [1, 1], pads = [0, 0, 0, 0], strides = [1, 1]](%197, %335, %336)\n",
      "  %200 = Relu(%334)\n",
      "  %337 = Conv[dilations = [1, 1], group = 1, kernel_shape = [3, 3], pads = [1, 1, 1, 1], strides = [1, 1]](%200, %338, %339)\n",
      "  %203 = Relu(%337)\n",
      "  %204 = Shape(%184)\n",
      "  %205 = Constant[value = <Scalar Tensor []>]()\n",
      "  %206 = Gather[axis = 0](%204, %205)\n",
      "  %207 = Shape(%184)\n",
      "  %208 = Constant[value = <Scalar Tensor []>]()\n",
      "  %209 = Gather[axis = 0](%207, %208)\n",
      "  %210 = Constant[value = <Tensor>]()\n",
      "  %211 = Unsqueeze(%206, %210)\n",
      "  %212 = Constant[value = <Tensor>]()\n",
      "  %213 = Unsqueeze(%209, %212)\n",
      "  %214 = Concat[axis = 0](%211, %213)\n",
      "  %215 = Shape(%203)\n",
      "  %216 = Constant[value = <Tensor>]()\n",
      "  %217 = Constant[value = <Tensor>]()\n",
      "  %218 = Constant[value = <Tensor>]()\n",
      "  %219 = Slice(%215, %217, %218, %216)\n",
      "  %220 = Cast[to = 7](%214)\n",
      "  %221 = Concat[axis = 0](%219, %220)\n",
      "  %224 = Resize[coordinate_transformation_mode = 'pytorch_half_pixel', cubic_coeff_a = -0.75, mode = 'linear', nearest_mode = 'floor'](%203, %, %, %221)\n",
      "  %225 = Concat[axis = 1](%224, %184)\n",
      "  %340 = Conv[dilations = [1, 1], group = 1, kernel_shape = [1, 1], pads = [0, 0, 0, 0], strides = [1, 1]](%225, %341, %342)\n",
      "  %228 = Relu(%340)\n",
      "  %343 = Conv[dilations = [1, 1], group = 1, kernel_shape = [3, 3], pads = [1, 1, 1, 1], strides = [1, 1]](%228, %344, %345)\n",
      "  %231 = Relu(%343)\n",
      "  %232 = Shape(%174)\n",
      "  %233 = Constant[value = <Scalar Tensor []>]()\n",
      "  %234 = Gather[axis = 0](%232, %233)\n",
      "  %235 = Shape(%174)\n",
      "  %236 = Constant[value = <Scalar Tensor []>]()\n",
      "  %237 = Gather[axis = 0](%235, %236)\n",
      "  %238 = Constant[value = <Tensor>]()\n",
      "  %239 = Unsqueeze(%234, %238)\n",
      "  %240 = Constant[value = <Tensor>]()\n",
      "  %241 = Unsqueeze(%237, %240)\n",
      "  %242 = Concat[axis = 0](%239, %241)\n",
      "  %243 = Shape(%231)\n",
      "  %244 = Constant[value = <Tensor>]()\n",
      "  %245 = Constant[value = <Tensor>]()\n",
      "  %246 = Constant[value = <Tensor>]()\n",
      "  %247 = Slice(%243, %245, %246, %244)\n",
      "  %248 = Cast[to = 7](%242)\n",
      "  %249 = Concat[axis = 0](%247, %248)\n",
      "  %252 = Resize[coordinate_transformation_mode = 'pytorch_half_pixel', cubic_coeff_a = -0.75, mode = 'linear', nearest_mode = 'floor'](%231, %, %, %249)\n",
      "  %253 = Concat[axis = 1](%252, %174)\n",
      "  %346 = Conv[dilations = [1, 1], group = 1, kernel_shape = [1, 1], pads = [0, 0, 0, 0], strides = [1, 1]](%253, %347, %348)\n",
      "  %256 = Relu(%346)\n",
      "  %349 = Conv[dilations = [1, 1], group = 1, kernel_shape = [3, 3], pads = [1, 1, 1, 1], strides = [1, 1]](%256, %350, %351)\n",
      "  %259 = Relu(%349)\n",
      "  %260 = Shape(%167)\n",
      "  %261 = Constant[value = <Scalar Tensor []>]()\n",
      "  %262 = Gather[axis = 0](%260, %261)\n",
      "  %263 = Shape(%167)\n",
      "  %264 = Constant[value = <Scalar Tensor []>]()\n",
      "  %265 = Gather[axis = 0](%263, %264)\n",
      "  %266 = Constant[value = <Tensor>]()\n",
      "  %267 = Unsqueeze(%262, %266)\n",
      "  %268 = Constant[value = <Tensor>]()\n",
      "  %269 = Unsqueeze(%265, %268)\n",
      "  %270 = Concat[axis = 0](%267, %269)\n",
      "  %271 = Shape(%259)\n",
      "  %272 = Constant[value = <Tensor>]()\n",
      "  %273 = Constant[value = <Tensor>]()\n",
      "  %274 = Constant[value = <Tensor>]()\n",
      "  %275 = Slice(%271, %273, %274, %272)\n",
      "  %276 = Cast[to = 7](%270)\n",
      "  %277 = Concat[axis = 0](%275, %276)\n",
      "  %280 = Resize[coordinate_transformation_mode = 'pytorch_half_pixel', cubic_coeff_a = -0.75, mode = 'linear', nearest_mode = 'floor'](%259, %, %, %277)\n",
      "  %281 = Concat[axis = 1](%280, %167)\n",
      "  %352 = Conv[dilations = [1, 1], group = 1, kernel_shape = [1, 1], pads = [0, 0, 0, 0], strides = [1, 1]](%281, %353, %354)\n",
      "  %284 = Relu(%352)\n",
      "  %355 = Conv[dilations = [1, 1], group = 1, kernel_shape = [3, 3], pads = [1, 1, 1, 1], strides = [1, 1]](%284, %356, %357)\n",
      "  %287 = Relu(%355)\n",
      "  %288 = Conv[dilations = [1, 1], group = 1, kernel_shape = [3, 3], pads = [1, 1, 1, 1], strides = [1, 1]](%287, %conv_cls.0.weight, %conv_cls.0.bias)\n",
      "  %289 = Relu(%288)\n",
      "  %290 = Conv[dilations = [1, 1], group = 1, kernel_shape = [3, 3], pads = [1, 1, 1, 1], strides = [1, 1]](%289, %conv_cls.2.weight, %conv_cls.2.bias)\n",
      "  %291 = Relu(%290)\n",
      "  %292 = Conv[dilations = [1, 1], group = 1, kernel_shape = [3, 3], pads = [1, 1, 1, 1], strides = [1, 1]](%291, %conv_cls.4.weight, %conv_cls.4.bias)\n",
      "  %293 = Relu(%292)\n",
      "  %294 = Conv[dilations = [1, 1], group = 1, kernel_shape = [1, 1], pads = [0, 0, 0, 0], strides = [1, 1]](%293, %conv_cls.6.weight, %conv_cls.6.bias)\n",
      "  %295 = Relu(%294)\n",
      "  %296 = Conv[dilations = [1, 1], group = 1, kernel_shape = [1, 1], pads = [0, 0, 0, 0], strides = [1, 1]](%295, %conv_cls.8.weight, %conv_cls.8.bias)\n",
      "  %output = Transpose[perm = [0, 2, 3, 1]](%296)\n",
      "  return %output, %287\n",
      "}\n"
     ]
    }
   ],
   "source": [
    "# Load the ONNX model\n",
    "onnx_model = onnx.load(out_detector_model)\n",
    "\n",
    "# Check that the IR is well formed\n",
    "onnx.checker.check_model(onnx_model)\n",
    "\n",
    "# Print a human readable representation of the graph\n",
    "print(onnx.helper.printable_graph(onnx_model.graph))"
   ]
  },
  {
   "cell_type": "markdown",
   "id": "satisfactory-segment",
   "metadata": {},
   "source": [
    "# Recognizer\n",
    "\n",
    "ERROR UNSOLVED BY CREATOR\n",
    "https://github.com/pytorch/pytorch/issues/27212"
   ]
  },
  {
   "cell_type": "markdown",
   "id": "verified-finding",
   "metadata": {},
   "source": [
    "## Exporter Model\n",
    "Batch Size X Channel X Height X Width"
   ]
  },
  {
   "cell_type": "code",
   "execution_count": 9,
   "id": "remarkable-tissue",
   "metadata": {},
   "outputs": [],
   "source": [
    "recognizer_dummy_input = torch.randn(100, 1, 32, 100)\n",
    "recognizer_dummy_text = torch.LongTensor(100, 26).fill_(0)"
   ]
  },
  {
   "cell_type": "code",
   "execution_count": 10,
   "id": "unlikely-snake",
   "metadata": {
    "scrolled": true
   },
   "outputs": [
    {
     "data": {
      "text/plain": [
       "tensor([[[ -8.7121, -10.4233,  -9.7408,  ...,  -7.8442,  -8.5406,  -6.8858],\n",
       "         [-14.0378, -15.5630, -16.3955,  ..., -12.0814, -12.9617, -13.4963],\n",
       "         [-16.6610, -17.7068, -16.6028,  ..., -15.9874, -15.5287, -16.0990],\n",
       "         ...,\n",
       "         [-13.1663,  -2.5138, -12.0675,  ..., -13.4109, -13.2892, -13.2974],\n",
       "         [-13.1462,  -2.4805, -11.9805,  ..., -13.4278, -13.2709, -13.2835],\n",
       "         [-13.1181,  -2.4402, -11.8769,  ..., -13.4378, -13.2335, -13.2671]],\n",
       "\n",
       "        [[ -8.2434, -10.8703,  -6.9456,  ...,  -7.5715,  -7.8886,  -5.5564],\n",
       "         [-14.0342, -14.6697, -11.6138,  ..., -12.8473, -14.2496, -13.7790],\n",
       "         [-17.8563, -19.0249, -15.7666,  ..., -18.3419, -19.9705, -17.4715],\n",
       "         ...,\n",
       "         [-14.2385,  -5.2659, -14.6901,  ..., -14.4494, -13.3195, -14.6651],\n",
       "         [-14.0618,  -5.1896, -14.4138,  ..., -14.3364, -13.1216, -14.4995],\n",
       "         [-13.8816,  -5.1824, -14.1655,  ..., -14.1733, -12.9041, -14.3783]],\n",
       "\n",
       "        [[ -8.3754,  -9.2564,  -8.1864,  ...,  -8.3364,  -9.3431,  -7.9658],\n",
       "         [-13.6492, -12.7710, -12.6994,  ..., -12.7966, -14.6407, -12.9262],\n",
       "         [-15.8281, -15.0843, -14.4556,  ..., -15.7824, -16.2313, -15.4285],\n",
       "         ...,\n",
       "         [-12.9174,  -4.3919, -12.6007,  ..., -14.1294, -13.0989, -13.4100],\n",
       "         [-12.8836,  -4.3538, -12.4966,  ..., -14.0897, -13.0533, -13.3675],\n",
       "         [-12.8498,  -4.3282, -12.4265,  ..., -14.0550, -13.0157, -13.3331]],\n",
       "\n",
       "        ...,\n",
       "\n",
       "        [[ -9.1400,  -8.3692,  -9.1307,  ...,  -8.8934,  -8.6566,  -9.2487],\n",
       "         [-13.0562, -13.8884, -14.2167,  ..., -12.5039, -12.7738, -13.5482],\n",
       "         [-13.3323, -12.0315, -14.2456,  ..., -12.8060, -13.3649, -13.8965],\n",
       "         ...,\n",
       "         [-12.2807,  -5.0971, -12.3903,  ..., -13.1150, -12.7695, -12.7289],\n",
       "         [-12.2658,  -5.0869, -12.3699,  ..., -13.1074, -12.7574, -12.7132],\n",
       "         [-12.2530,  -5.0771, -12.3530,  ..., -13.1002, -12.7465, -12.6994]],\n",
       "\n",
       "        [[ -6.7728,  -6.5120,  -4.0750,  ...,  -6.9302,  -7.5914,  -6.6859],\n",
       "         [-11.6901, -10.9407,  -9.9605,  ..., -12.4708, -12.6220, -11.5104],\n",
       "         [-14.9662, -13.2200, -14.2462,  ..., -14.8075, -15.5531, -14.9356],\n",
       "         ...,\n",
       "         [-13.2426,  -5.9541, -12.8945,  ..., -14.1196, -13.8360, -14.0859],\n",
       "         [-13.2512,  -5.9674, -12.8961,  ..., -14.1392, -13.8450, -14.0973],\n",
       "         [-13.2497,  -5.9632, -12.8906,  ..., -14.1464, -13.8448, -14.0985]],\n",
       "\n",
       "        [[ -8.0762,  -8.5387,  -6.5408,  ...,  -6.0556,  -8.1395,  -8.0532],\n",
       "         [-13.4925, -12.9132, -12.2486,  ..., -12.5199, -14.3071, -13.7094],\n",
       "         [-15.9731, -12.6883, -16.8605,  ..., -15.7515, -17.1926, -16.2549],\n",
       "         ...,\n",
       "         [-12.4473,  -4.4179, -13.4291,  ..., -12.4341, -12.5125, -13.0447],\n",
       "         [-12.4664,  -4.5235, -13.3669,  ..., -12.4699, -12.5426, -13.0423],\n",
       "         [-12.4864,  -4.5974, -13.3271,  ..., -12.5083, -12.5701, -13.0483]]],\n",
       "       grad_fn=<AddBackward0>)"
      ]
     },
     "execution_count": 10,
     "metadata": {},
     "output_type": "execute_result"
    }
   ],
   "source": [
    "model.recognizer.module(recognizer_dummy_input, recognizer_dummy_text)"
   ]
  },
  {
   "cell_type": "code",
   "execution_count": 11,
   "id": "plastic-niger",
   "metadata": {},
   "outputs": [],
   "source": [
    "out_recognizer_model = 'models/text_recognizer/star.onnx'"
   ]
  },
  {
   "cell_type": "code",
   "execution_count": 12,
   "id": "global-border",
   "metadata": {},
   "outputs": [
    {
     "ename": "RuntimeError",
     "evalue": "Exporting the operator grid_sampler to ONNX opset version 13 is not supported. Please feel free to request support or submit a pull request on PyTorch GitHub.",
     "output_type": "error",
     "traceback": [
      "\u001b[0;31m--------------------------------------------------------------\u001b[0m",
      "\u001b[0;31mRuntimeError\u001b[0m                 Traceback (most recent call last)",
      "\u001b[0;32m<ipython-input-12-7513d5fccda9>\u001b[0m in \u001b[0;36m<module>\u001b[0;34m\u001b[0m\n\u001b[1;32m      1\u001b[0m \u001b[0;31m# Export the model\u001b[0m\u001b[0;34m\u001b[0m\u001b[0;34m\u001b[0m\u001b[0;34m\u001b[0m\u001b[0m\n\u001b[0;32m----> 2\u001b[0;31m torch.onnx.export(model.recognizer.module,            \n\u001b[0m\u001b[1;32m      3\u001b[0m                   \u001b[0;34m(\u001b[0m\u001b[0mrecognizer_dummy_input\u001b[0m\u001b[0;34m,\u001b[0m \u001b[0mrecognizer_dummy_text\u001b[0m\u001b[0;34m)\u001b[0m\u001b[0;34m,\u001b[0m\u001b[0;34m\u001b[0m\u001b[0;34m\u001b[0m\u001b[0m\n\u001b[1;32m      4\u001b[0m                   \u001b[0mout_recognizer_model\u001b[0m\u001b[0;34m,\u001b[0m\u001b[0;34m\u001b[0m\u001b[0;34m\u001b[0m\u001b[0m\n\u001b[1;32m      5\u001b[0m                   \u001b[0mexport_params\u001b[0m\u001b[0;34m=\u001b[0m\u001b[0;32mTrue\u001b[0m\u001b[0;34m,\u001b[0m\u001b[0;34m\u001b[0m\u001b[0;34m\u001b[0m\u001b[0m\n",
      "\u001b[0;32m~/miniconda3/lib/python3.8/site-packages/torch/onnx/__init__.py\u001b[0m in \u001b[0;36mexport\u001b[0;34m(model, args, f, export_params, verbose, training, input_names, output_names, aten, export_raw_ir, operator_export_type, opset_version, _retain_param_name, do_constant_folding, example_outputs, strip_doc_string, dynamic_axes, keep_initializers_as_inputs, custom_opsets, enable_onnx_checker, use_external_data_format)\u001b[0m\n\u001b[1;32m    273\u001b[0m \u001b[0;34m\u001b[0m\u001b[0m\n\u001b[1;32m    274\u001b[0m     \u001b[0;32mfrom\u001b[0m \u001b[0mtorch\u001b[0m\u001b[0;34m.\u001b[0m\u001b[0monnx\u001b[0m \u001b[0;32mimport\u001b[0m \u001b[0mutils\u001b[0m\u001b[0;34m\u001b[0m\u001b[0;34m\u001b[0m\u001b[0m\n\u001b[0;32m--> 275\u001b[0;31m     return utils.export(model, args, f, export_params, verbose, training,\n\u001b[0m\u001b[1;32m    276\u001b[0m                         \u001b[0minput_names\u001b[0m\u001b[0;34m,\u001b[0m \u001b[0moutput_names\u001b[0m\u001b[0;34m,\u001b[0m \u001b[0maten\u001b[0m\u001b[0;34m,\u001b[0m \u001b[0mexport_raw_ir\u001b[0m\u001b[0;34m,\u001b[0m\u001b[0;34m\u001b[0m\u001b[0;34m\u001b[0m\u001b[0m\n\u001b[1;32m    277\u001b[0m                         \u001b[0moperator_export_type\u001b[0m\u001b[0;34m,\u001b[0m \u001b[0mopset_version\u001b[0m\u001b[0;34m,\u001b[0m \u001b[0m_retain_param_name\u001b[0m\u001b[0;34m,\u001b[0m\u001b[0;34m\u001b[0m\u001b[0;34m\u001b[0m\u001b[0m\n",
      "\u001b[0;32m~/miniconda3/lib/python3.8/site-packages/torch/onnx/utils.py\u001b[0m in \u001b[0;36mexport\u001b[0;34m(model, args, f, export_params, verbose, training, input_names, output_names, aten, export_raw_ir, operator_export_type, opset_version, _retain_param_name, do_constant_folding, example_outputs, strip_doc_string, dynamic_axes, keep_initializers_as_inputs, custom_opsets, enable_onnx_checker, use_external_data_format)\u001b[0m\n\u001b[1;32m     86\u001b[0m         \u001b[0;32melse\u001b[0m\u001b[0;34m:\u001b[0m\u001b[0;34m\u001b[0m\u001b[0;34m\u001b[0m\u001b[0m\n\u001b[1;32m     87\u001b[0m             \u001b[0moperator_export_type\u001b[0m \u001b[0;34m=\u001b[0m \u001b[0mOperatorExportTypes\u001b[0m\u001b[0;34m.\u001b[0m\u001b[0mONNX\u001b[0m\u001b[0;34m\u001b[0m\u001b[0;34m\u001b[0m\u001b[0m\n\u001b[0;32m---> 88\u001b[0;31m     _export(model, args, f, export_params, verbose, training, input_names, output_names,\n\u001b[0m\u001b[1;32m     89\u001b[0m             \u001b[0moperator_export_type\u001b[0m\u001b[0;34m=\u001b[0m\u001b[0moperator_export_type\u001b[0m\u001b[0;34m,\u001b[0m \u001b[0mopset_version\u001b[0m\u001b[0;34m=\u001b[0m\u001b[0mopset_version\u001b[0m\u001b[0;34m,\u001b[0m\u001b[0;34m\u001b[0m\u001b[0;34m\u001b[0m\u001b[0m\n\u001b[1;32m     90\u001b[0m             \u001b[0m_retain_param_name\u001b[0m\u001b[0;34m=\u001b[0m\u001b[0m_retain_param_name\u001b[0m\u001b[0;34m,\u001b[0m \u001b[0mdo_constant_folding\u001b[0m\u001b[0;34m=\u001b[0m\u001b[0mdo_constant_folding\u001b[0m\u001b[0;34m,\u001b[0m\u001b[0;34m\u001b[0m\u001b[0;34m\u001b[0m\u001b[0m\n",
      "\u001b[0;32m~/miniconda3/lib/python3.8/site-packages/torch/onnx/utils.py\u001b[0m in \u001b[0;36m_export\u001b[0;34m(model, args, f, export_params, verbose, training, input_names, output_names, operator_export_type, export_type, example_outputs, opset_version, _retain_param_name, do_constant_folding, strip_doc_string, dynamic_axes, keep_initializers_as_inputs, fixed_batch_size, custom_opsets, add_node_names, enable_onnx_checker, use_external_data_format, onnx_shape_inference)\u001b[0m\n\u001b[1;32m    687\u001b[0m \u001b[0;34m\u001b[0m\u001b[0m\n\u001b[1;32m    688\u001b[0m             \u001b[0mgraph\u001b[0m\u001b[0;34m,\u001b[0m \u001b[0mparams_dict\u001b[0m\u001b[0;34m,\u001b[0m \u001b[0mtorch_out\u001b[0m \u001b[0;34m=\u001b[0m\u001b[0;31m \u001b[0m\u001b[0;31m\\\u001b[0m\u001b[0;34m\u001b[0m\u001b[0;34m\u001b[0m\u001b[0m\n\u001b[0;32m--> 689\u001b[0;31m                 _model_to_graph(model, args, verbose, input_names,\n\u001b[0m\u001b[1;32m    690\u001b[0m                                 \u001b[0moutput_names\u001b[0m\u001b[0;34m,\u001b[0m \u001b[0moperator_export_type\u001b[0m\u001b[0;34m,\u001b[0m\u001b[0;34m\u001b[0m\u001b[0;34m\u001b[0m\u001b[0m\n\u001b[1;32m    691\u001b[0m                                 \u001b[0mexample_outputs\u001b[0m\u001b[0;34m,\u001b[0m \u001b[0m_retain_param_name\u001b[0m\u001b[0;34m,\u001b[0m\u001b[0;34m\u001b[0m\u001b[0;34m\u001b[0m\u001b[0m\n",
      "\u001b[0;32m~/miniconda3/lib/python3.8/site-packages/torch/onnx/utils.py\u001b[0m in \u001b[0;36m_model_to_graph\u001b[0;34m(model, args, verbose, input_names, output_names, operator_export_type, example_outputs, _retain_param_name, do_constant_folding, _disable_torch_constant_prop, fixed_batch_size, training, dynamic_axes)\u001b[0m\n\u001b[1;32m    461\u001b[0m     \u001b[0mparams_dict\u001b[0m \u001b[0;34m=\u001b[0m \u001b[0m_get_named_param_dict\u001b[0m\u001b[0;34m(\u001b[0m\u001b[0mgraph\u001b[0m\u001b[0;34m,\u001b[0m \u001b[0mparams\u001b[0m\u001b[0;34m)\u001b[0m\u001b[0;34m\u001b[0m\u001b[0;34m\u001b[0m\u001b[0m\n\u001b[1;32m    462\u001b[0m \u001b[0;34m\u001b[0m\u001b[0m\n\u001b[0;32m--> 463\u001b[0;31m     graph = _optimize_graph(graph, operator_export_type,\n\u001b[0m\u001b[1;32m    464\u001b[0m                             \u001b[0m_disable_torch_constant_prop\u001b[0m\u001b[0;34m=\u001b[0m\u001b[0m_disable_torch_constant_prop\u001b[0m\u001b[0;34m,\u001b[0m\u001b[0;34m\u001b[0m\u001b[0;34m\u001b[0m\u001b[0m\n\u001b[1;32m    465\u001b[0m                             \u001b[0mfixed_batch_size\u001b[0m\u001b[0;34m=\u001b[0m\u001b[0mfixed_batch_size\u001b[0m\u001b[0;34m,\u001b[0m \u001b[0mparams_dict\u001b[0m\u001b[0;34m=\u001b[0m\u001b[0mparams_dict\u001b[0m\u001b[0;34m,\u001b[0m\u001b[0;34m\u001b[0m\u001b[0;34m\u001b[0m\u001b[0m\n",
      "\u001b[0;32m~/miniconda3/lib/python3.8/site-packages/torch/onnx/utils.py\u001b[0m in \u001b[0;36m_optimize_graph\u001b[0;34m(graph, operator_export_type, _disable_torch_constant_prop, fixed_batch_size, params_dict, dynamic_axes, input_names, module)\u001b[0m\n\u001b[1;32m    198\u001b[0m             \u001b[0mdynamic_axes\u001b[0m \u001b[0;34m=\u001b[0m \u001b[0;34m{\u001b[0m\u001b[0;34m}\u001b[0m \u001b[0;32mif\u001b[0m \u001b[0mdynamic_axes\u001b[0m \u001b[0;32mis\u001b[0m \u001b[0;32mNone\u001b[0m \u001b[0;32melse\u001b[0m \u001b[0mdynamic_axes\u001b[0m\u001b[0;34m\u001b[0m\u001b[0;34m\u001b[0m\u001b[0m\n\u001b[1;32m    199\u001b[0m             \u001b[0mtorch\u001b[0m\u001b[0;34m.\u001b[0m\u001b[0m_C\u001b[0m\u001b[0;34m.\u001b[0m\u001b[0m_jit_pass_onnx_set_dynamic_input_shape\u001b[0m\u001b[0;34m(\u001b[0m\u001b[0mgraph\u001b[0m\u001b[0;34m,\u001b[0m \u001b[0mdynamic_axes\u001b[0m\u001b[0;34m,\u001b[0m \u001b[0minput_names\u001b[0m\u001b[0;34m)\u001b[0m\u001b[0;34m\u001b[0m\u001b[0;34m\u001b[0m\u001b[0m\n\u001b[0;32m--> 200\u001b[0;31m         \u001b[0mgraph\u001b[0m \u001b[0;34m=\u001b[0m \u001b[0mtorch\u001b[0m\u001b[0;34m.\u001b[0m\u001b[0m_C\u001b[0m\u001b[0;34m.\u001b[0m\u001b[0m_jit_pass_onnx\u001b[0m\u001b[0;34m(\u001b[0m\u001b[0mgraph\u001b[0m\u001b[0;34m,\u001b[0m \u001b[0moperator_export_type\u001b[0m\u001b[0;34m)\u001b[0m\u001b[0;34m\u001b[0m\u001b[0;34m\u001b[0m\u001b[0m\n\u001b[0m\u001b[1;32m    201\u001b[0m         \u001b[0mtorch\u001b[0m\u001b[0;34m.\u001b[0m\u001b[0m_C\u001b[0m\u001b[0;34m.\u001b[0m\u001b[0m_jit_pass_lint\u001b[0m\u001b[0;34m(\u001b[0m\u001b[0mgraph\u001b[0m\u001b[0;34m)\u001b[0m\u001b[0;34m\u001b[0m\u001b[0;34m\u001b[0m\u001b[0m\n\u001b[1;32m    202\u001b[0m \u001b[0;34m\u001b[0m\u001b[0m\n",
      "\u001b[0;32m~/miniconda3/lib/python3.8/site-packages/torch/onnx/__init__.py\u001b[0m in \u001b[0;36m_run_symbolic_function\u001b[0;34m(*args, **kwargs)\u001b[0m\n\u001b[1;32m    311\u001b[0m \u001b[0;32mdef\u001b[0m \u001b[0m_run_symbolic_function\u001b[0m\u001b[0;34m(\u001b[0m\u001b[0;34m*\u001b[0m\u001b[0margs\u001b[0m\u001b[0;34m,\u001b[0m \u001b[0;34m**\u001b[0m\u001b[0mkwargs\u001b[0m\u001b[0;34m)\u001b[0m\u001b[0;34m:\u001b[0m\u001b[0;34m\u001b[0m\u001b[0;34m\u001b[0m\u001b[0m\n\u001b[1;32m    312\u001b[0m     \u001b[0;32mfrom\u001b[0m \u001b[0mtorch\u001b[0m\u001b[0;34m.\u001b[0m\u001b[0monnx\u001b[0m \u001b[0;32mimport\u001b[0m \u001b[0mutils\u001b[0m\u001b[0;34m\u001b[0m\u001b[0;34m\u001b[0m\u001b[0m\n\u001b[0;32m--> 313\u001b[0;31m     \u001b[0;32mreturn\u001b[0m \u001b[0mutils\u001b[0m\u001b[0;34m.\u001b[0m\u001b[0m_run_symbolic_function\u001b[0m\u001b[0;34m(\u001b[0m\u001b[0;34m*\u001b[0m\u001b[0margs\u001b[0m\u001b[0;34m,\u001b[0m \u001b[0;34m**\u001b[0m\u001b[0mkwargs\u001b[0m\u001b[0;34m)\u001b[0m\u001b[0;34m\u001b[0m\u001b[0;34m\u001b[0m\u001b[0m\n\u001b[0m\u001b[1;32m    314\u001b[0m \u001b[0;34m\u001b[0m\u001b[0m\n\u001b[1;32m    315\u001b[0m \u001b[0;34m\u001b[0m\u001b[0m\n",
      "\u001b[0;32m~/miniconda3/lib/python3.8/site-packages/torch/onnx/utils.py\u001b[0m in \u001b[0;36m_run_symbolic_function\u001b[0;34m(g, block, n, inputs, env, operator_export_type)\u001b[0m\n\u001b[1;32m    988\u001b[0m                 \u001b[0;31m# Export it regularly\u001b[0m\u001b[0;34m\u001b[0m\u001b[0;34m\u001b[0m\u001b[0;34m\u001b[0m\u001b[0m\n\u001b[1;32m    989\u001b[0m                 \u001b[0mdomain\u001b[0m \u001b[0;34m=\u001b[0m \u001b[0;34m''\u001b[0m\u001b[0;34m\u001b[0m\u001b[0;34m\u001b[0m\u001b[0m\n\u001b[0;32m--> 990\u001b[0;31m                 \u001b[0msymbolic_fn\u001b[0m \u001b[0;34m=\u001b[0m \u001b[0m_find_symbolic_in_registry\u001b[0m\u001b[0;34m(\u001b[0m\u001b[0mdomain\u001b[0m\u001b[0;34m,\u001b[0m \u001b[0mop_name\u001b[0m\u001b[0;34m,\u001b[0m \u001b[0mopset_version\u001b[0m\u001b[0;34m,\u001b[0m \u001b[0moperator_export_type\u001b[0m\u001b[0;34m)\u001b[0m\u001b[0;34m\u001b[0m\u001b[0;34m\u001b[0m\u001b[0m\n\u001b[0m\u001b[1;32m    991\u001b[0m                 \u001b[0;32mif\u001b[0m \u001b[0msymbolic_fn\u001b[0m \u001b[0;32mis\u001b[0m \u001b[0;32mNone\u001b[0m\u001b[0;34m:\u001b[0m\u001b[0;34m\u001b[0m\u001b[0;34m\u001b[0m\u001b[0m\n\u001b[1;32m    992\u001b[0m                     \u001b[0;32mreturn\u001b[0m \u001b[0;32mNone\u001b[0m\u001b[0;34m\u001b[0m\u001b[0;34m\u001b[0m\u001b[0m\n",
      "\u001b[0;32m~/miniconda3/lib/python3.8/site-packages/torch/onnx/utils.py\u001b[0m in \u001b[0;36m_find_symbolic_in_registry\u001b[0;34m(domain, op_name, opset_version, operator_export_type)\u001b[0m\n\u001b[1;32m    942\u001b[0m             \u001b[0;31m# Use the original node directly\u001b[0m\u001b[0;34m\u001b[0m\u001b[0;34m\u001b[0m\u001b[0;34m\u001b[0m\u001b[0m\n\u001b[1;32m    943\u001b[0m             \u001b[0;32mreturn\u001b[0m \u001b[0;32mNone\u001b[0m\u001b[0;34m\u001b[0m\u001b[0;34m\u001b[0m\u001b[0m\n\u001b[0;32m--> 944\u001b[0;31m     \u001b[0;32mreturn\u001b[0m \u001b[0msym_registry\u001b[0m\u001b[0;34m.\u001b[0m\u001b[0mget_registered_op\u001b[0m\u001b[0;34m(\u001b[0m\u001b[0mop_name\u001b[0m\u001b[0;34m,\u001b[0m \u001b[0mdomain\u001b[0m\u001b[0;34m,\u001b[0m \u001b[0mopset_version\u001b[0m\u001b[0;34m)\u001b[0m\u001b[0;34m\u001b[0m\u001b[0;34m\u001b[0m\u001b[0m\n\u001b[0m\u001b[1;32m    945\u001b[0m \u001b[0;34m\u001b[0m\u001b[0m\n\u001b[1;32m    946\u001b[0m \u001b[0;34m\u001b[0m\u001b[0m\n",
      "\u001b[0;32m~/miniconda3/lib/python3.8/site-packages/torch/onnx/symbolic_registry.py\u001b[0m in \u001b[0;36mget_registered_op\u001b[0;34m(opname, domain, version)\u001b[0m\n\u001b[1;32m    114\u001b[0m         \u001b[0;32melse\u001b[0m\u001b[0;34m:\u001b[0m\u001b[0;34m\u001b[0m\u001b[0;34m\u001b[0m\u001b[0m\n\u001b[1;32m    115\u001b[0m             \u001b[0mmsg\u001b[0m \u001b[0;34m+=\u001b[0m \u001b[0;34m\"Please feel free to request support or submit a pull request on PyTorch GitHub.\"\u001b[0m\u001b[0;34m\u001b[0m\u001b[0;34m\u001b[0m\u001b[0m\n\u001b[0;32m--> 116\u001b[0;31m         \u001b[0;32mraise\u001b[0m \u001b[0mRuntimeError\u001b[0m\u001b[0;34m(\u001b[0m\u001b[0mmsg\u001b[0m\u001b[0;34m)\u001b[0m\u001b[0;34m\u001b[0m\u001b[0;34m\u001b[0m\u001b[0m\n\u001b[0m\u001b[1;32m    117\u001b[0m     \u001b[0;32mreturn\u001b[0m \u001b[0m_registry\u001b[0m\u001b[0;34m[\u001b[0m\u001b[0;34m(\u001b[0m\u001b[0mdomain\u001b[0m\u001b[0;34m,\u001b[0m \u001b[0mversion\u001b[0m\u001b[0;34m)\u001b[0m\u001b[0;34m]\u001b[0m\u001b[0;34m[\u001b[0m\u001b[0mopname\u001b[0m\u001b[0;34m]\u001b[0m\u001b[0;34m\u001b[0m\u001b[0;34m\u001b[0m\u001b[0m\n",
      "\u001b[0;31mRuntimeError\u001b[0m: Exporting the operator grid_sampler to ONNX opset version 13 is not supported. Please feel free to request support or submit a pull request on PyTorch GitHub."
     ]
    }
   ],
   "source": [
    "# Export the model\n",
    "torch.onnx.export(model.recognizer.module,            \n",
    "                  (recognizer_dummy_input, recognizer_dummy_text),\n",
    "                  out_recognizer_model,\n",
    "                  export_params=True,\n",
    "                  opset_version=13,\n",
    "                  do_constant_folding=True,\n",
    "                  input_names = ['input'],\n",
    "                  output_names = ['output'],\n",
    "                  dynamic_axes={'input' : {0:'batch_size', 2:'height', 3:'width'},\n",
    "                                'output' : {0:'batch_size'}})"
   ]
  },
  {
   "cell_type": "markdown",
   "id": "lyric-accident",
   "metadata": {},
   "source": [
    "## Inspecting Model"
   ]
  },
  {
   "cell_type": "code",
   "execution_count": null,
   "id": "dietary-research",
   "metadata": {},
   "outputs": [],
   "source": [
    "# Load the ONNX model\n",
    "onnx_model = onnx.load(out_recognizer_model)\n",
    "\n",
    "# Check that the IR is well formed\n",
    "onnx.checker.check_model(onnx_model)\n",
    "\n",
    "# Print a human readable representation of the graph\n",
    "print(onnx.helper.printable_graph(onnx_model.graph))"
   ]
  },
  {
   "cell_type": "code",
   "execution_count": null,
   "id": "acute-holmes",
   "metadata": {},
   "outputs": [],
   "source": []
  }
 ],
 "metadata": {
  "kernelspec": {
   "display_name": "base",
   "language": "python",
   "name": "base"
  },
  "language_info": {
   "codemirror_mode": {
    "name": "ipython",
    "version": 3
   },
   "file_extension": ".py",
   "mimetype": "text/x-python",
   "name": "python",
   "nbconvert_exporter": "python",
   "pygments_lexer": "ipython3",
   "version": "3.8.3"
  }
 },
 "nbformat": 4,
 "nbformat_minor": 5
}
