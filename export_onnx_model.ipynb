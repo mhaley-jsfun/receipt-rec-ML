{
 "cells": [
  {
   "cell_type": "code",
   "execution_count": 1,
   "id": "together-jenny",
   "metadata": {},
   "outputs": [],
   "source": [
    "import warnings\n",
    "import onnx\n",
    "import torch\n",
    "import torch.onnx\n",
    "warnings.filterwarnings(\"ignore\")\n",
    "\n",
    "from model import ReceiptOCR_DefaultModel"
   ]
  },
  {
   "cell_type": "code",
   "execution_count": 2,
   "id": "dependent-street",
   "metadata": {},
   "outputs": [
    {
     "name": "stdout",
     "output_type": "stream",
     "text": [
      "cpu\n"
     ]
    }
   ],
   "source": [
    "device = torch.device('cuda') if torch.cuda.is_available() else torch.device('cpu')\n",
    "print(device)"
   ]
  },
  {
   "cell_type": "markdown",
   "id": "quiet-basics",
   "metadata": {},
   "source": [
    "## Load model network and weight"
   ]
  },
  {
   "cell_type": "code",
   "execution_count": 3,
   "id": "municipal-owner",
   "metadata": {},
   "outputs": [
    {
     "name": "stdout",
     "output_type": "stream",
     "text": [
      "Loading weights from checkpoint (text_detector/model/craft_mlt_25k.pth)\n",
      "Loading weights from checkpoint (text_recognizer/model/TPS-ResNet-BiLSTM-Attn-case-sensitive.pth)\n"
     ]
    }
   ],
   "source": [
    "detector_cfg = 'text_detector/craft_config.yaml'\n",
    "recognizer_cfg = 'text_recognizer/star_config.yaml'\n",
    "\n",
    "model = ReceiptOCR_DefaultModel(detector_cfg, recognizer_cfg)"
   ]
  },
  {
   "cell_type": "markdown",
   "id": "theoretical-frederick",
   "metadata": {},
   "source": [
    "# Detector"
   ]
  },
  {
   "cell_type": "markdown",
   "id": "caring-bandwidth",
   "metadata": {},
   "source": [
    "## Exporter Model\n",
    "Batch Size X Channel X Height X Width"
   ]
  },
  {
   "cell_type": "code",
   "execution_count": 4,
   "id": "juvenile-argument",
   "metadata": {},
   "outputs": [],
   "source": [
    "detector_dummy_input = torch.randn(1, 3, 1280, 720)"
   ]
  },
  {
   "cell_type": "code",
   "execution_count": 5,
   "id": "incomplete-samuel",
   "metadata": {
    "scrolled": true
   },
   "outputs": [
    {
     "data": {
      "text/plain": [
       "(tensor([[[[0.0023, 0.0009],\n",
       "           [0.0194, 0.0019],\n",
       "           [0.0010, 0.0002],\n",
       "           ...,\n",
       "           [0.0010, 0.0002],\n",
       "           [0.0031, 0.0016],\n",
       "           [0.0010, 0.0002]],\n",
       " \n",
       "          [[0.0060, 0.0017],\n",
       "           [0.0010, 0.0002],\n",
       "           [0.0010, 0.0002],\n",
       "           ...,\n",
       "           [0.0010, 0.0002],\n",
       "           [0.0010, 0.0002],\n",
       "           [0.0010, 0.0002]],\n",
       " \n",
       "          [[0.0010, 0.0002],\n",
       "           [0.0010, 0.0002],\n",
       "           [0.0010, 0.0002],\n",
       "           ...,\n",
       "           [0.0010, 0.0002],\n",
       "           [0.0010, 0.0002],\n",
       "           [0.0010, 0.0002]],\n",
       " \n",
       "          ...,\n",
       " \n",
       "          [[0.0010, 0.0002],\n",
       "           [0.0010, 0.0002],\n",
       "           [0.0010, 0.0002],\n",
       "           ...,\n",
       "           [0.0010, 0.0002],\n",
       "           [0.0010, 0.0002],\n",
       "           [0.0010, 0.0002]],\n",
       " \n",
       "          [[0.0065, 0.0015],\n",
       "           [0.0010, 0.0002],\n",
       "           [0.0010, 0.0002],\n",
       "           ...,\n",
       "           [0.0010, 0.0002],\n",
       "           [0.0010, 0.0002],\n",
       "           [0.0019, 0.0006]],\n",
       " \n",
       "          [[0.0082, 0.0050],\n",
       "           [0.0021, 0.0016],\n",
       "           [0.0052, 0.0017],\n",
       "           ...,\n",
       "           [0.0020, 0.0006],\n",
       "           [0.0012, 0.0003],\n",
       "           [0.0105, 0.0078]]]], grad_fn=<PermuteBackward>),\n",
       " tensor([[[[0.0000e+00, 5.4900e-02, 0.0000e+00,  ..., 0.0000e+00,\n",
       "            0.0000e+00, 0.0000e+00],\n",
       "           [8.7763e-02, 5.6347e-02, 2.1008e-01,  ..., 0.0000e+00,\n",
       "            0.0000e+00, 0.0000e+00],\n",
       "           [0.0000e+00, 0.0000e+00, 7.0141e-02,  ..., 0.0000e+00,\n",
       "            0.0000e+00, 0.0000e+00],\n",
       "           ...,\n",
       "           [0.0000e+00, 0.0000e+00, 1.8977e-01,  ..., 1.0817e+00,\n",
       "            1.0458e+00, 1.2534e+00],\n",
       "           [0.0000e+00, 0.0000e+00, 1.9741e-01,  ..., 1.3361e+00,\n",
       "            1.2601e+00, 1.3712e+00],\n",
       "           [0.0000e+00, 1.9162e-02, 2.4662e-01,  ..., 9.2546e-01,\n",
       "            9.1641e-01, 9.9154e-01]],\n",
       " \n",
       "          [[1.9396e-01, 0.0000e+00, 0.0000e+00,  ..., 0.0000e+00,\n",
       "            0.0000e+00, 2.2763e-01],\n",
       "           [8.3027e-02, 0.0000e+00, 0.0000e+00,  ..., 0.0000e+00,\n",
       "            0.0000e+00, 0.0000e+00],\n",
       "           [1.0960e-01, 0.0000e+00, 0.0000e+00,  ..., 0.0000e+00,\n",
       "            0.0000e+00, 3.5970e-02],\n",
       "           ...,\n",
       "           [0.0000e+00, 0.0000e+00, 0.0000e+00,  ..., 0.0000e+00,\n",
       "            0.0000e+00, 0.0000e+00],\n",
       "           [0.0000e+00, 0.0000e+00, 0.0000e+00,  ..., 0.0000e+00,\n",
       "            0.0000e+00, 0.0000e+00],\n",
       "           [7.9065e-02, 0.0000e+00, 0.0000e+00,  ..., 0.0000e+00,\n",
       "            0.0000e+00, 2.3797e-01]],\n",
       " \n",
       "          [[9.9755e-01, 7.7361e-01, 8.5266e-01,  ..., 1.0126e-01,\n",
       "            2.7095e-01, 6.3667e-01],\n",
       "           [9.6927e-01, 4.7735e-01, 8.3570e-01,  ..., 4.5560e-01,\n",
       "            7.9326e-01, 1.2203e+00],\n",
       "           [1.3029e+00, 4.8343e-01, 8.3008e-01,  ..., 5.3479e-01,\n",
       "            8.1094e-01, 1.1277e+00],\n",
       "           ...,\n",
       "           [0.0000e+00, 0.0000e+00, 0.0000e+00,  ..., 0.0000e+00,\n",
       "            3.3190e-01, 2.2090e+00],\n",
       "           [0.0000e+00, 0.0000e+00, 0.0000e+00,  ..., 4.7702e-01,\n",
       "            7.0489e-01, 1.8374e+00],\n",
       "           [0.0000e+00, 0.0000e+00, 0.0000e+00,  ..., 3.3340e-01,\n",
       "            4.3716e-01, 1.0425e+00]],\n",
       " \n",
       "          ...,\n",
       " \n",
       "          [[0.0000e+00, 0.0000e+00, 0.0000e+00,  ..., 0.0000e+00,\n",
       "            0.0000e+00, 0.0000e+00],\n",
       "           [5.3092e-02, 1.0597e-01, 2.2775e-01,  ..., 0.0000e+00,\n",
       "            0.0000e+00, 0.0000e+00],\n",
       "           [0.0000e+00, 0.0000e+00, 1.5701e-02,  ..., 0.0000e+00,\n",
       "            0.0000e+00, 0.0000e+00],\n",
       "           ...,\n",
       "           [5.9182e-01, 1.3123e+00, 1.7491e+00,  ..., 2.4887e+00,\n",
       "            2.1480e+00, 1.1059e+00],\n",
       "           [3.4420e-01, 6.7479e-01, 1.1087e+00,  ..., 1.7575e+00,\n",
       "            1.6212e+00, 9.2836e-01],\n",
       "           [4.4765e-01, 6.3199e-01, 7.2692e-01,  ..., 9.9255e-01,\n",
       "            9.0421e-01, 5.9842e-01]],\n",
       " \n",
       "          [[2.0891e-01, 1.9374e-03, 1.7379e-02,  ..., 0.0000e+00,\n",
       "            0.0000e+00, 0.0000e+00],\n",
       "           [0.0000e+00, 0.0000e+00, 0.0000e+00,  ..., 0.0000e+00,\n",
       "            0.0000e+00, 0.0000e+00],\n",
       "           [4.8077e-02, 0.0000e+00, 0.0000e+00,  ..., 0.0000e+00,\n",
       "            0.0000e+00, 0.0000e+00],\n",
       "           ...,\n",
       "           [0.0000e+00, 0.0000e+00, 0.0000e+00,  ..., 0.0000e+00,\n",
       "            0.0000e+00, 0.0000e+00],\n",
       "           [0.0000e+00, 0.0000e+00, 0.0000e+00,  ..., 0.0000e+00,\n",
       "            0.0000e+00, 0.0000e+00],\n",
       "           [0.0000e+00, 0.0000e+00, 0.0000e+00,  ..., 0.0000e+00,\n",
       "            0.0000e+00, 0.0000e+00]],\n",
       " \n",
       "          [[3.4611e-02, 5.3845e-02, 7.0176e-02,  ..., 1.4333e-01,\n",
       "            1.3333e-01, 5.1426e-01],\n",
       "           [0.0000e+00, 9.1107e-02, 1.7962e-01,  ..., 0.0000e+00,\n",
       "            0.0000e+00, 4.4464e-01],\n",
       "           [0.0000e+00, 3.4053e-02, 2.2024e-01,  ..., 0.0000e+00,\n",
       "            1.0257e-01, 4.6335e-01],\n",
       "           ...,\n",
       "           [0.0000e+00, 0.0000e+00, 0.0000e+00,  ..., 0.0000e+00,\n",
       "            0.0000e+00, 0.0000e+00],\n",
       "           [0.0000e+00, 0.0000e+00, 0.0000e+00,  ..., 0.0000e+00,\n",
       "            0.0000e+00, 1.7012e-01],\n",
       "           [1.0640e-01, 0.0000e+00, 0.0000e+00,  ..., 9.6999e-02,\n",
       "            2.8220e-01, 7.0925e-01]]]], grad_fn=<ReluBackward1>))"
      ]
     },
     "execution_count": 5,
     "metadata": {},
     "output_type": "execute_result"
    }
   ],
   "source": [
    "model.detector(detector_dummy_input)"
   ]
  },
  {
   "cell_type": "code",
   "execution_count": 6,
   "id": "coral-response",
   "metadata": {},
   "outputs": [],
   "source": [
    "out_detector_model = 'text_detector/model/craft.onnx'"
   ]
  },
  {
   "cell_type": "code",
   "execution_count": 10,
   "id": "arbitrary-integrity",
   "metadata": {},
   "outputs": [],
   "source": [
    "# Export the model\n",
    "torch.onnx.export(model.detector,            \n",
    "                  detector_dummy_input,\n",
    "                  out_detector_model,\n",
    "                  export_params=True,\n",
    "                  opset_version=13,\n",
    "                  do_constant_folding=True,\n",
    "                  input_names = ['input'],\n",
    "                  output_names = ['output'],\n",
    "                  dynamic_axes={'input' : {0:'batch_size', 2:'height', 3:'width'},\n",
    "                                'output' : {0:'batch_size'}})"
   ]
  },
  {
   "cell_type": "markdown",
   "id": "japanese-defensive",
   "metadata": {},
   "source": [
    "## Inspecting Model"
   ]
  },
  {
   "cell_type": "code",
   "execution_count": 11,
   "id": "selected-porter",
   "metadata": {
    "scrolled": true
   },
   "outputs": [
    {
     "name": "stdout",
     "output_type": "stream",
     "text": [
      "graph torch-jit-export (\n",
      "  %input[FLOAT, batch_sizex3xheightxwidth]\n",
      ") initializers (\n",
      "  %basenet.slice5.1.weight[FLOAT, 1024x512x3x3]\n",
      "  %basenet.slice5.1.bias[FLOAT, 1024]\n",
      "  %basenet.slice5.2.weight[FLOAT, 1024x1024x1x1]\n",
      "  %basenet.slice5.2.bias[FLOAT, 1024]\n",
      "  %conv_cls.0.weight[FLOAT, 32x32x3x3]\n",
      "  %conv_cls.0.bias[FLOAT, 32]\n",
      "  %conv_cls.2.weight[FLOAT, 32x32x3x3]\n",
      "  %conv_cls.2.bias[FLOAT, 32]\n",
      "  %conv_cls.4.weight[FLOAT, 16x32x3x3]\n",
      "  %conv_cls.4.bias[FLOAT, 16]\n",
      "  %conv_cls.6.weight[FLOAT, 16x16x1x1]\n",
      "  %conv_cls.6.bias[FLOAT, 16]\n",
      "  %conv_cls.8.weight[FLOAT, 2x16x1x1]\n",
      "  %conv_cls.8.bias[FLOAT, 2]\n",
      "  %299[FLOAT, 64x3x3x3]\n",
      "  %300[FLOAT, 64]\n",
      "  %302[FLOAT, 64x64x3x3]\n",
      "  %303[FLOAT, 64]\n",
      "  %305[FLOAT, 128x64x3x3]\n",
      "  %306[FLOAT, 128]\n",
      "  %308[FLOAT, 128x128x3x3]\n",
      "  %309[FLOAT, 128]\n",
      "  %311[FLOAT, 256x128x3x3]\n",
      "  %312[FLOAT, 256]\n",
      "  %314[FLOAT, 256x256x3x3]\n",
      "  %315[FLOAT, 256]\n",
      "  %317[FLOAT, 256x256x3x3]\n",
      "  %318[FLOAT, 256]\n",
      "  %320[FLOAT, 512x256x3x3]\n",
      "  %321[FLOAT, 512]\n",
      "  %323[FLOAT, 512x512x3x3]\n",
      "  %324[FLOAT, 512]\n",
      "  %326[FLOAT, 512x512x3x3]\n",
      "  %327[FLOAT, 512]\n",
      "  %329[FLOAT, 512x512x3x3]\n",
      "  %330[FLOAT, 512]\n",
      "  %332[FLOAT, 512x512x3x3]\n",
      "  %333[FLOAT, 512]\n",
      "  %335[FLOAT, 512x1536x1x1]\n",
      "  %336[FLOAT, 512]\n",
      "  %338[FLOAT, 256x512x3x3]\n",
      "  %339[FLOAT, 256]\n",
      "  %341[FLOAT, 256x768x1x1]\n",
      "  %342[FLOAT, 256]\n",
      "  %344[FLOAT, 128x256x3x3]\n",
      "  %345[FLOAT, 128]\n",
      "  %347[FLOAT, 128x384x1x1]\n",
      "  %348[FLOAT, 128]\n",
      "  %350[FLOAT, 64x128x3x3]\n",
      "  %351[FLOAT, 64]\n",
      "  %353[FLOAT, 64x192x1x1]\n",
      "  %354[FLOAT, 64]\n",
      "  %356[FLOAT, 32x64x3x3]\n",
      "  %357[FLOAT, 32]\n",
      ") {\n",
      "  %298 = Conv[dilations = [1, 1], group = 1, kernel_shape = [3, 3], pads = [1, 1, 1, 1], strides = [1, 1]](%input, %299, %300)\n",
      "  %157 = Relu(%298)\n",
      "  %301 = Conv[dilations = [1, 1], group = 1, kernel_shape = [3, 3], pads = [1, 1, 1, 1], strides = [1, 1]](%157, %302, %303)\n",
      "  %160 = Relu(%301)\n",
      "  %161 = MaxPool[ceil_mode = 0, kernel_shape = [2, 2], pads = [0, 0, 0, 0], strides = [2, 2]](%160)\n",
      "  %304 = Conv[dilations = [1, 1], group = 1, kernel_shape = [3, 3], pads = [1, 1, 1, 1], strides = [1, 1]](%161, %305, %306)\n",
      "  %164 = Relu(%304)\n",
      "  %307 = Conv[dilations = [1, 1], group = 1, kernel_shape = [3, 3], pads = [1, 1, 1, 1], strides = [1, 1]](%164, %308, %309)\n",
      "  %167 = Relu(%307)\n",
      "  %168 = MaxPool[ceil_mode = 0, kernel_shape = [2, 2], pads = [0, 0, 0, 0], strides = [2, 2]](%167)\n",
      "  %310 = Conv[dilations = [1, 1], group = 1, kernel_shape = [3, 3], pads = [1, 1, 1, 1], strides = [1, 1]](%168, %311, %312)\n",
      "  %171 = Relu(%310)\n",
      "  %313 = Conv[dilations = [1, 1], group = 1, kernel_shape = [3, 3], pads = [1, 1, 1, 1], strides = [1, 1]](%171, %314, %315)\n",
      "  %174 = Relu(%313)\n",
      "  %316 = Conv[dilations = [1, 1], group = 1, kernel_shape = [3, 3], pads = [1, 1, 1, 1], strides = [1, 1]](%174, %317, %318)\n",
      "  %177 = Relu(%316)\n",
      "  %178 = MaxPool[ceil_mode = 0, kernel_shape = [2, 2], pads = [0, 0, 0, 0], strides = [2, 2]](%177)\n",
      "  %319 = Conv[dilations = [1, 1], group = 1, kernel_shape = [3, 3], pads = [1, 1, 1, 1], strides = [1, 1]](%178, %320, %321)\n",
      "  %181 = Relu(%319)\n",
      "  %322 = Conv[dilations = [1, 1], group = 1, kernel_shape = [3, 3], pads = [1, 1, 1, 1], strides = [1, 1]](%181, %323, %324)\n",
      "  %184 = Relu(%322)\n",
      "  %325 = Conv[dilations = [1, 1], group = 1, kernel_shape = [3, 3], pads = [1, 1, 1, 1], strides = [1, 1]](%184, %326, %327)\n",
      "  %187 = Relu(%325)\n",
      "  %188 = MaxPool[ceil_mode = 0, kernel_shape = [2, 2], pads = [0, 0, 0, 0], strides = [2, 2]](%187)\n",
      "  %328 = Conv[dilations = [1, 1], group = 1, kernel_shape = [3, 3], pads = [1, 1, 1, 1], strides = [1, 1]](%188, %329, %330)\n",
      "  %191 = Relu(%328)\n",
      "  %331 = Conv[dilations = [1, 1], group = 1, kernel_shape = [3, 3], pads = [1, 1, 1, 1], strides = [1, 1]](%191, %332, %333)\n",
      "  %194 = MaxPool[ceil_mode = 0, kernel_shape = [3, 3], pads = [1, 1, 1, 1], strides = [1, 1]](%331)\n",
      "  %195 = Conv[dilations = [6, 6], group = 1, kernel_shape = [3, 3], pads = [6, 6, 6, 6], strides = [1, 1]](%194, %basenet.slice5.1.weight, %basenet.slice5.1.bias)\n",
      "  %196 = Conv[dilations = [1, 1], group = 1, kernel_shape = [1, 1], pads = [0, 0, 0, 0], strides = [1, 1]](%195, %basenet.slice5.2.weight, %basenet.slice5.2.bias)\n",
      "  %197 = Concat[axis = 1](%196, %331)\n",
      "  %334 = Conv[dilations = [1, 1], group = 1, kernel_shape = [1, 1], pads = [0, 0, 0, 0], strides = [1, 1]](%197, %335, %336)\n",
      "  %200 = Relu(%334)\n",
      "  %337 = Conv[dilations = [1, 1], group = 1, kernel_shape = [3, 3], pads = [1, 1, 1, 1], strides = [1, 1]](%200, %338, %339)\n",
      "  %203 = Relu(%337)\n",
      "  %204 = Shape(%184)\n",
      "  %205 = Constant[value = <Scalar Tensor []>]()\n",
      "  %206 = Gather[axis = 0](%204, %205)\n",
      "  %207 = Shape(%184)\n",
      "  %208 = Constant[value = <Scalar Tensor []>]()\n",
      "  %209 = Gather[axis = 0](%207, %208)\n",
      "  %210 = Constant[value = <Tensor>]()\n",
      "  %211 = Unsqueeze(%206, %210)\n",
      "  %212 = Constant[value = <Tensor>]()\n",
      "  %213 = Unsqueeze(%209, %212)\n",
      "  %214 = Concat[axis = 0](%211, %213)\n",
      "  %215 = Shape(%203)\n",
      "  %216 = Constant[value = <Tensor>]()\n",
      "  %217 = Constant[value = <Tensor>]()\n",
      "  %218 = Constant[value = <Tensor>]()\n",
      "  %219 = Slice(%215, %217, %218, %216)\n",
      "  %220 = Cast[to = 7](%214)\n",
      "  %221 = Concat[axis = 0](%219, %220)\n",
      "  %224 = Resize[coordinate_transformation_mode = 'pytorch_half_pixel', cubic_coeff_a = -0.75, mode = 'linear', nearest_mode = 'floor'](%203, %, %, %221)\n",
      "  %225 = Concat[axis = 1](%224, %184)\n",
      "  %340 = Conv[dilations = [1, 1], group = 1, kernel_shape = [1, 1], pads = [0, 0, 0, 0], strides = [1, 1]](%225, %341, %342)\n",
      "  %228 = Relu(%340)\n",
      "  %343 = Conv[dilations = [1, 1], group = 1, kernel_shape = [3, 3], pads = [1, 1, 1, 1], strides = [1, 1]](%228, %344, %345)\n",
      "  %231 = Relu(%343)\n",
      "  %232 = Shape(%174)\n",
      "  %233 = Constant[value = <Scalar Tensor []>]()\n",
      "  %234 = Gather[axis = 0](%232, %233)\n",
      "  %235 = Shape(%174)\n",
      "  %236 = Constant[value = <Scalar Tensor []>]()\n",
      "  %237 = Gather[axis = 0](%235, %236)\n",
      "  %238 = Constant[value = <Tensor>]()\n",
      "  %239 = Unsqueeze(%234, %238)\n",
      "  %240 = Constant[value = <Tensor>]()\n",
      "  %241 = Unsqueeze(%237, %240)\n",
      "  %242 = Concat[axis = 0](%239, %241)\n",
      "  %243 = Shape(%231)\n",
      "  %244 = Constant[value = <Tensor>]()\n",
      "  %245 = Constant[value = <Tensor>]()\n",
      "  %246 = Constant[value = <Tensor>]()\n",
      "  %247 = Slice(%243, %245, %246, %244)\n",
      "  %248 = Cast[to = 7](%242)\n",
      "  %249 = Concat[axis = 0](%247, %248)\n",
      "  %252 = Resize[coordinate_transformation_mode = 'pytorch_half_pixel', cubic_coeff_a = -0.75, mode = 'linear', nearest_mode = 'floor'](%231, %, %, %249)\n",
      "  %253 = Concat[axis = 1](%252, %174)\n",
      "  %346 = Conv[dilations = [1, 1], group = 1, kernel_shape = [1, 1], pads = [0, 0, 0, 0], strides = [1, 1]](%253, %347, %348)\n",
      "  %256 = Relu(%346)\n",
      "  %349 = Conv[dilations = [1, 1], group = 1, kernel_shape = [3, 3], pads = [1, 1, 1, 1], strides = [1, 1]](%256, %350, %351)\n",
      "  %259 = Relu(%349)\n",
      "  %260 = Shape(%167)\n",
      "  %261 = Constant[value = <Scalar Tensor []>]()\n",
      "  %262 = Gather[axis = 0](%260, %261)\n",
      "  %263 = Shape(%167)\n",
      "  %264 = Constant[value = <Scalar Tensor []>]()\n",
      "  %265 = Gather[axis = 0](%263, %264)\n",
      "  %266 = Constant[value = <Tensor>]()\n",
      "  %267 = Unsqueeze(%262, %266)\n",
      "  %268 = Constant[value = <Tensor>]()\n",
      "  %269 = Unsqueeze(%265, %268)\n",
      "  %270 = Concat[axis = 0](%267, %269)\n",
      "  %271 = Shape(%259)\n",
      "  %272 = Constant[value = <Tensor>]()\n",
      "  %273 = Constant[value = <Tensor>]()\n",
      "  %274 = Constant[value = <Tensor>]()\n",
      "  %275 = Slice(%271, %273, %274, %272)\n",
      "  %276 = Cast[to = 7](%270)\n",
      "  %277 = Concat[axis = 0](%275, %276)\n",
      "  %280 = Resize[coordinate_transformation_mode = 'pytorch_half_pixel', cubic_coeff_a = -0.75, mode = 'linear', nearest_mode = 'floor'](%259, %, %, %277)\n",
      "  %281 = Concat[axis = 1](%280, %167)\n",
      "  %352 = Conv[dilations = [1, 1], group = 1, kernel_shape = [1, 1], pads = [0, 0, 0, 0], strides = [1, 1]](%281, %353, %354)\n",
      "  %284 = Relu(%352)\n",
      "  %355 = Conv[dilations = [1, 1], group = 1, kernel_shape = [3, 3], pads = [1, 1, 1, 1], strides = [1, 1]](%284, %356, %357)\n",
      "  %287 = Relu(%355)\n",
      "  %288 = Conv[dilations = [1, 1], group = 1, kernel_shape = [3, 3], pads = [1, 1, 1, 1], strides = [1, 1]](%287, %conv_cls.0.weight, %conv_cls.0.bias)\n",
      "  %289 = Relu(%288)\n",
      "  %290 = Conv[dilations = [1, 1], group = 1, kernel_shape = [3, 3], pads = [1, 1, 1, 1], strides = [1, 1]](%289, %conv_cls.2.weight, %conv_cls.2.bias)\n",
      "  %291 = Relu(%290)\n",
      "  %292 = Conv[dilations = [1, 1], group = 1, kernel_shape = [3, 3], pads = [1, 1, 1, 1], strides = [1, 1]](%291, %conv_cls.4.weight, %conv_cls.4.bias)\n",
      "  %293 = Relu(%292)\n",
      "  %294 = Conv[dilations = [1, 1], group = 1, kernel_shape = [1, 1], pads = [0, 0, 0, 0], strides = [1, 1]](%293, %conv_cls.6.weight, %conv_cls.6.bias)\n",
      "  %295 = Relu(%294)\n",
      "  %296 = Conv[dilations = [1, 1], group = 1, kernel_shape = [1, 1], pads = [0, 0, 0, 0], strides = [1, 1]](%295, %conv_cls.8.weight, %conv_cls.8.bias)\n",
      "  %output = Transpose[perm = [0, 2, 3, 1]](%296)\n",
      "  return %output, %287\n",
      "}\n"
     ]
    }
   ],
   "source": [
    "# Load the ONNX model\n",
    "onnx_model = onnx.load(out_detector_model)\n",
    "\n",
    "# Check that the IR is well formed\n",
    "onnx.checker.check_model(onnx_model)\n",
    "\n",
    "# Print a human readable representation of the graph\n",
    "print(onnx.helper.printable_graph(onnx_model.graph))"
   ]
  },
  {
   "cell_type": "markdown",
   "id": "running-recycling",
   "metadata": {},
   "source": [
    "# Recognizer\n",
    "\n",
    "ERROR UNSOLVED BY CREATOR\n",
    "https://github.com/pytorch/pytorch/issues/27212"
   ]
  },
  {
   "cell_type": "markdown",
   "id": "destroyed-stranger",
   "metadata": {},
   "source": [
    "## Exporter Model\n",
    "Batch Size X Channel X Height X Width"
   ]
  },
  {
   "cell_type": "code",
   "execution_count": 12,
   "id": "explicit-canadian",
   "metadata": {},
   "outputs": [],
   "source": [
    "recognizer_dummy_input = torch.randn(100, 1, 32, 100)\n",
    "recognizer_dummy_text = torch.LongTensor(100, 26).fill_(0)"
   ]
  },
  {
   "cell_type": "code",
   "execution_count": 13,
   "id": "sweet-builder",
   "metadata": {
    "scrolled": true
   },
   "outputs": [
    {
     "data": {
      "text/plain": [
       "tensor([[[ -9.1567,  -7.9548,  -7.0153,  ...,  -7.5213,  -8.4923,  -6.2916],\n",
       "         [-12.9125, -12.2800,  -8.6195,  ..., -12.6158, -13.8953, -13.2493],\n",
       "         [-16.7911, -15.0270, -15.7007,  ..., -16.3188, -16.9956, -16.5788],\n",
       "         ...,\n",
       "         [-14.0376,  -5.1481, -14.6025,  ..., -14.0541, -13.3346, -14.8601],\n",
       "         [-14.0561,  -5.1797, -14.5754,  ..., -14.0733, -13.3462, -14.8630],\n",
       "         [-14.0494,  -5.1462, -14.5524,  ..., -14.0671, -13.3431, -14.8623]],\n",
       "\n",
       "        [[ -7.7614,  -8.7713,  -6.1116,  ...,  -8.8747,  -7.9698,  -7.6302],\n",
       "         [-13.9064, -14.0955, -12.4275,  ..., -13.6737, -13.9023, -13.5223],\n",
       "         [-15.8626, -14.9347, -14.2942,  ..., -14.2057, -15.4003, -15.4908],\n",
       "         ...,\n",
       "         [-13.0832,  -5.3524, -12.0100,  ..., -14.2358, -13.3563, -13.7593],\n",
       "         [-13.0650,  -5.3422, -12.0023,  ..., -14.2119, -13.3418, -13.7275],\n",
       "         [-13.0510,  -5.3449, -11.9959,  ..., -14.1940, -13.3300, -13.6997]],\n",
       "\n",
       "        [[ -7.9671,  -7.8509,  -7.1226,  ...,  -7.9428,  -8.5495,  -7.5901],\n",
       "         [-12.2925, -13.3295, -10.2073,  ..., -11.9220, -12.1397, -11.6599],\n",
       "         [-14.2825, -12.8658, -12.7134,  ..., -14.1710, -14.0550, -13.6521],\n",
       "         ...,\n",
       "         [-12.3465,  -4.2681, -12.1973,  ..., -13.3456, -12.5541, -12.8083],\n",
       "         [-12.3229,  -4.2554, -12.1309,  ..., -13.3322, -12.5264, -12.7755],\n",
       "         [-12.3013,  -4.2349, -12.0763,  ..., -13.3193, -12.5012, -12.7482]],\n",
       "\n",
       "        ...,\n",
       "\n",
       "        [[ -7.4734,  -7.7975,  -8.0679,  ...,  -5.7907,  -7.2682,  -8.2688],\n",
       "         [-12.9575, -12.7539, -13.3465,  ..., -12.3691, -12.5646, -12.8492],\n",
       "         [-15.1151, -13.8218, -15.6479,  ..., -15.1769, -14.9817, -14.8686],\n",
       "         ...,\n",
       "         [-13.2938,  -3.9498, -13.4658,  ..., -14.2819, -13.5675, -14.0642],\n",
       "         [-13.3013,  -3.9859, -13.4430,  ..., -14.2947, -13.5664, -14.0576],\n",
       "         [-13.2991,  -4.0015, -13.4204,  ..., -14.2956, -13.5574, -14.0423]],\n",
       "\n",
       "        [[ -8.6321,  -9.4904,  -6.7577,  ...,  -7.5821,  -9.2014,  -7.1906],\n",
       "         [-13.5241, -14.1169, -10.7821,  ..., -13.6259, -13.9711, -12.8454],\n",
       "         [-16.1312, -15.5345, -13.1744,  ..., -16.6239, -16.5154, -16.1346],\n",
       "         ...,\n",
       "         [-13.8341,  -3.9128, -12.7336,  ..., -13.8658, -13.7195, -13.9698],\n",
       "         [-13.8971,  -3.8950, -12.8003,  ..., -13.9770, -13.8075, -14.0063],\n",
       "         [-13.9955,  -3.9402, -12.9207,  ..., -14.1162, -13.9221, -14.0675]],\n",
       "\n",
       "        [[ -8.3702,  -8.7847,  -8.7970,  ...,  -4.5739,  -7.4666,  -7.7945],\n",
       "         [-13.9913, -13.0958, -15.3921,  ..., -10.4494, -12.0648, -13.5450],\n",
       "         [-16.4801, -16.4391, -18.8673,  ..., -13.2861, -13.9270, -15.8582],\n",
       "         ...,\n",
       "         [-13.6590,  -4.4222, -12.5904,  ..., -14.8109, -13.9162, -14.1953],\n",
       "         [-13.6312,  -4.4455, -12.5567,  ..., -14.7722, -13.8833, -14.1545],\n",
       "         [-13.5928,  -4.4278, -12.5186,  ..., -14.7288, -13.8399, -14.1081]]],\n",
       "       grad_fn=<AddBackward0>)"
      ]
     },
     "execution_count": 13,
     "metadata": {},
     "output_type": "execute_result"
    }
   ],
   "source": [
    "model.recognizer.module(recognizer_dummy_input, recognizer_dummy_text)"
   ]
  },
  {
   "cell_type": "code",
   "execution_count": 14,
   "id": "characteristic-paintball",
   "metadata": {},
   "outputs": [],
   "source": [
    "out_recognizer_model = 'text_recognizer/model/star.onnx'"
   ]
  },
  {
   "cell_type": "code",
   "execution_count": 15,
   "id": "stuck-access",
   "metadata": {},
   "outputs": [
    {
     "ename": "RuntimeError",
     "evalue": "Exporting the operator grid_sampler to ONNX opset version 13 is not supported. Please feel free to request support or submit a pull request on PyTorch GitHub.",
     "output_type": "error",
     "traceback": [
      "\u001b[0;31m--------------------------------------------------------------\u001b[0m",
      "\u001b[0;31mRuntimeError\u001b[0m                 Traceback (most recent call last)",
      "\u001b[0;32m<ipython-input-15-7513d5fccda9>\u001b[0m in \u001b[0;36m<module>\u001b[0;34m\u001b[0m\n\u001b[1;32m      1\u001b[0m \u001b[0;31m# Export the model\u001b[0m\u001b[0;34m\u001b[0m\u001b[0;34m\u001b[0m\u001b[0;34m\u001b[0m\u001b[0m\n\u001b[0;32m----> 2\u001b[0;31m torch.onnx.export(model.recognizer.module,            \n\u001b[0m\u001b[1;32m      3\u001b[0m                   \u001b[0;34m(\u001b[0m\u001b[0mrecognizer_dummy_input\u001b[0m\u001b[0;34m,\u001b[0m \u001b[0mrecognizer_dummy_text\u001b[0m\u001b[0;34m)\u001b[0m\u001b[0;34m,\u001b[0m\u001b[0;34m\u001b[0m\u001b[0;34m\u001b[0m\u001b[0m\n\u001b[1;32m      4\u001b[0m                   \u001b[0mout_recognizer_model\u001b[0m\u001b[0;34m,\u001b[0m\u001b[0;34m\u001b[0m\u001b[0;34m\u001b[0m\u001b[0m\n\u001b[1;32m      5\u001b[0m                   \u001b[0mexport_params\u001b[0m\u001b[0;34m=\u001b[0m\u001b[0;32mTrue\u001b[0m\u001b[0;34m,\u001b[0m\u001b[0;34m\u001b[0m\u001b[0;34m\u001b[0m\u001b[0m\n",
      "\u001b[0;32m~/miniconda3/lib/python3.8/site-packages/torch/onnx/__init__.py\u001b[0m in \u001b[0;36mexport\u001b[0;34m(model, args, f, export_params, verbose, training, input_names, output_names, aten, export_raw_ir, operator_export_type, opset_version, _retain_param_name, do_constant_folding, example_outputs, strip_doc_string, dynamic_axes, keep_initializers_as_inputs, custom_opsets, enable_onnx_checker, use_external_data_format)\u001b[0m\n\u001b[1;32m    273\u001b[0m \u001b[0;34m\u001b[0m\u001b[0m\n\u001b[1;32m    274\u001b[0m     \u001b[0;32mfrom\u001b[0m \u001b[0mtorch\u001b[0m\u001b[0;34m.\u001b[0m\u001b[0monnx\u001b[0m \u001b[0;32mimport\u001b[0m \u001b[0mutils\u001b[0m\u001b[0;34m\u001b[0m\u001b[0;34m\u001b[0m\u001b[0m\n\u001b[0;32m--> 275\u001b[0;31m     return utils.export(model, args, f, export_params, verbose, training,\n\u001b[0m\u001b[1;32m    276\u001b[0m                         \u001b[0minput_names\u001b[0m\u001b[0;34m,\u001b[0m \u001b[0moutput_names\u001b[0m\u001b[0;34m,\u001b[0m \u001b[0maten\u001b[0m\u001b[0;34m,\u001b[0m \u001b[0mexport_raw_ir\u001b[0m\u001b[0;34m,\u001b[0m\u001b[0;34m\u001b[0m\u001b[0;34m\u001b[0m\u001b[0m\n\u001b[1;32m    277\u001b[0m                         \u001b[0moperator_export_type\u001b[0m\u001b[0;34m,\u001b[0m \u001b[0mopset_version\u001b[0m\u001b[0;34m,\u001b[0m \u001b[0m_retain_param_name\u001b[0m\u001b[0;34m,\u001b[0m\u001b[0;34m\u001b[0m\u001b[0;34m\u001b[0m\u001b[0m\n",
      "\u001b[0;32m~/miniconda3/lib/python3.8/site-packages/torch/onnx/utils.py\u001b[0m in \u001b[0;36mexport\u001b[0;34m(model, args, f, export_params, verbose, training, input_names, output_names, aten, export_raw_ir, operator_export_type, opset_version, _retain_param_name, do_constant_folding, example_outputs, strip_doc_string, dynamic_axes, keep_initializers_as_inputs, custom_opsets, enable_onnx_checker, use_external_data_format)\u001b[0m\n\u001b[1;32m     86\u001b[0m         \u001b[0;32melse\u001b[0m\u001b[0;34m:\u001b[0m\u001b[0;34m\u001b[0m\u001b[0;34m\u001b[0m\u001b[0m\n\u001b[1;32m     87\u001b[0m             \u001b[0moperator_export_type\u001b[0m \u001b[0;34m=\u001b[0m \u001b[0mOperatorExportTypes\u001b[0m\u001b[0;34m.\u001b[0m\u001b[0mONNX\u001b[0m\u001b[0;34m\u001b[0m\u001b[0;34m\u001b[0m\u001b[0m\n\u001b[0;32m---> 88\u001b[0;31m     _export(model, args, f, export_params, verbose, training, input_names, output_names,\n\u001b[0m\u001b[1;32m     89\u001b[0m             \u001b[0moperator_export_type\u001b[0m\u001b[0;34m=\u001b[0m\u001b[0moperator_export_type\u001b[0m\u001b[0;34m,\u001b[0m \u001b[0mopset_version\u001b[0m\u001b[0;34m=\u001b[0m\u001b[0mopset_version\u001b[0m\u001b[0;34m,\u001b[0m\u001b[0;34m\u001b[0m\u001b[0;34m\u001b[0m\u001b[0m\n\u001b[1;32m     90\u001b[0m             \u001b[0m_retain_param_name\u001b[0m\u001b[0;34m=\u001b[0m\u001b[0m_retain_param_name\u001b[0m\u001b[0;34m,\u001b[0m \u001b[0mdo_constant_folding\u001b[0m\u001b[0;34m=\u001b[0m\u001b[0mdo_constant_folding\u001b[0m\u001b[0;34m,\u001b[0m\u001b[0;34m\u001b[0m\u001b[0;34m\u001b[0m\u001b[0m\n",
      "\u001b[0;32m~/miniconda3/lib/python3.8/site-packages/torch/onnx/utils.py\u001b[0m in \u001b[0;36m_export\u001b[0;34m(model, args, f, export_params, verbose, training, input_names, output_names, operator_export_type, export_type, example_outputs, opset_version, _retain_param_name, do_constant_folding, strip_doc_string, dynamic_axes, keep_initializers_as_inputs, fixed_batch_size, custom_opsets, add_node_names, enable_onnx_checker, use_external_data_format, onnx_shape_inference)\u001b[0m\n\u001b[1;32m    687\u001b[0m \u001b[0;34m\u001b[0m\u001b[0m\n\u001b[1;32m    688\u001b[0m             \u001b[0mgraph\u001b[0m\u001b[0;34m,\u001b[0m \u001b[0mparams_dict\u001b[0m\u001b[0;34m,\u001b[0m \u001b[0mtorch_out\u001b[0m \u001b[0;34m=\u001b[0m\u001b[0;31m \u001b[0m\u001b[0;31m\\\u001b[0m\u001b[0;34m\u001b[0m\u001b[0;34m\u001b[0m\u001b[0m\n\u001b[0;32m--> 689\u001b[0;31m                 _model_to_graph(model, args, verbose, input_names,\n\u001b[0m\u001b[1;32m    690\u001b[0m                                 \u001b[0moutput_names\u001b[0m\u001b[0;34m,\u001b[0m \u001b[0moperator_export_type\u001b[0m\u001b[0;34m,\u001b[0m\u001b[0;34m\u001b[0m\u001b[0;34m\u001b[0m\u001b[0m\n\u001b[1;32m    691\u001b[0m                                 \u001b[0mexample_outputs\u001b[0m\u001b[0;34m,\u001b[0m \u001b[0m_retain_param_name\u001b[0m\u001b[0;34m,\u001b[0m\u001b[0;34m\u001b[0m\u001b[0;34m\u001b[0m\u001b[0m\n",
      "\u001b[0;32m~/miniconda3/lib/python3.8/site-packages/torch/onnx/utils.py\u001b[0m in \u001b[0;36m_model_to_graph\u001b[0;34m(model, args, verbose, input_names, output_names, operator_export_type, example_outputs, _retain_param_name, do_constant_folding, _disable_torch_constant_prop, fixed_batch_size, training, dynamic_axes)\u001b[0m\n\u001b[1;32m    461\u001b[0m     \u001b[0mparams_dict\u001b[0m \u001b[0;34m=\u001b[0m \u001b[0m_get_named_param_dict\u001b[0m\u001b[0;34m(\u001b[0m\u001b[0mgraph\u001b[0m\u001b[0;34m,\u001b[0m \u001b[0mparams\u001b[0m\u001b[0;34m)\u001b[0m\u001b[0;34m\u001b[0m\u001b[0;34m\u001b[0m\u001b[0m\n\u001b[1;32m    462\u001b[0m \u001b[0;34m\u001b[0m\u001b[0m\n\u001b[0;32m--> 463\u001b[0;31m     graph = _optimize_graph(graph, operator_export_type,\n\u001b[0m\u001b[1;32m    464\u001b[0m                             \u001b[0m_disable_torch_constant_prop\u001b[0m\u001b[0;34m=\u001b[0m\u001b[0m_disable_torch_constant_prop\u001b[0m\u001b[0;34m,\u001b[0m\u001b[0;34m\u001b[0m\u001b[0;34m\u001b[0m\u001b[0m\n\u001b[1;32m    465\u001b[0m                             \u001b[0mfixed_batch_size\u001b[0m\u001b[0;34m=\u001b[0m\u001b[0mfixed_batch_size\u001b[0m\u001b[0;34m,\u001b[0m \u001b[0mparams_dict\u001b[0m\u001b[0;34m=\u001b[0m\u001b[0mparams_dict\u001b[0m\u001b[0;34m,\u001b[0m\u001b[0;34m\u001b[0m\u001b[0;34m\u001b[0m\u001b[0m\n",
      "\u001b[0;32m~/miniconda3/lib/python3.8/site-packages/torch/onnx/utils.py\u001b[0m in \u001b[0;36m_optimize_graph\u001b[0;34m(graph, operator_export_type, _disable_torch_constant_prop, fixed_batch_size, params_dict, dynamic_axes, input_names, module)\u001b[0m\n\u001b[1;32m    198\u001b[0m             \u001b[0mdynamic_axes\u001b[0m \u001b[0;34m=\u001b[0m \u001b[0;34m{\u001b[0m\u001b[0;34m}\u001b[0m \u001b[0;32mif\u001b[0m \u001b[0mdynamic_axes\u001b[0m \u001b[0;32mis\u001b[0m \u001b[0;32mNone\u001b[0m \u001b[0;32melse\u001b[0m \u001b[0mdynamic_axes\u001b[0m\u001b[0;34m\u001b[0m\u001b[0;34m\u001b[0m\u001b[0m\n\u001b[1;32m    199\u001b[0m             \u001b[0mtorch\u001b[0m\u001b[0;34m.\u001b[0m\u001b[0m_C\u001b[0m\u001b[0;34m.\u001b[0m\u001b[0m_jit_pass_onnx_set_dynamic_input_shape\u001b[0m\u001b[0;34m(\u001b[0m\u001b[0mgraph\u001b[0m\u001b[0;34m,\u001b[0m \u001b[0mdynamic_axes\u001b[0m\u001b[0;34m,\u001b[0m \u001b[0minput_names\u001b[0m\u001b[0;34m)\u001b[0m\u001b[0;34m\u001b[0m\u001b[0;34m\u001b[0m\u001b[0m\n\u001b[0;32m--> 200\u001b[0;31m         \u001b[0mgraph\u001b[0m \u001b[0;34m=\u001b[0m \u001b[0mtorch\u001b[0m\u001b[0;34m.\u001b[0m\u001b[0m_C\u001b[0m\u001b[0;34m.\u001b[0m\u001b[0m_jit_pass_onnx\u001b[0m\u001b[0;34m(\u001b[0m\u001b[0mgraph\u001b[0m\u001b[0;34m,\u001b[0m \u001b[0moperator_export_type\u001b[0m\u001b[0;34m)\u001b[0m\u001b[0;34m\u001b[0m\u001b[0;34m\u001b[0m\u001b[0m\n\u001b[0m\u001b[1;32m    201\u001b[0m         \u001b[0mtorch\u001b[0m\u001b[0;34m.\u001b[0m\u001b[0m_C\u001b[0m\u001b[0;34m.\u001b[0m\u001b[0m_jit_pass_lint\u001b[0m\u001b[0;34m(\u001b[0m\u001b[0mgraph\u001b[0m\u001b[0;34m)\u001b[0m\u001b[0;34m\u001b[0m\u001b[0;34m\u001b[0m\u001b[0m\n\u001b[1;32m    202\u001b[0m \u001b[0;34m\u001b[0m\u001b[0m\n",
      "\u001b[0;32m~/miniconda3/lib/python3.8/site-packages/torch/onnx/__init__.py\u001b[0m in \u001b[0;36m_run_symbolic_function\u001b[0;34m(*args, **kwargs)\u001b[0m\n\u001b[1;32m    311\u001b[0m \u001b[0;32mdef\u001b[0m \u001b[0m_run_symbolic_function\u001b[0m\u001b[0;34m(\u001b[0m\u001b[0;34m*\u001b[0m\u001b[0margs\u001b[0m\u001b[0;34m,\u001b[0m \u001b[0;34m**\u001b[0m\u001b[0mkwargs\u001b[0m\u001b[0;34m)\u001b[0m\u001b[0;34m:\u001b[0m\u001b[0;34m\u001b[0m\u001b[0;34m\u001b[0m\u001b[0m\n\u001b[1;32m    312\u001b[0m     \u001b[0;32mfrom\u001b[0m \u001b[0mtorch\u001b[0m\u001b[0;34m.\u001b[0m\u001b[0monnx\u001b[0m \u001b[0;32mimport\u001b[0m \u001b[0mutils\u001b[0m\u001b[0;34m\u001b[0m\u001b[0;34m\u001b[0m\u001b[0m\n\u001b[0;32m--> 313\u001b[0;31m     \u001b[0;32mreturn\u001b[0m \u001b[0mutils\u001b[0m\u001b[0;34m.\u001b[0m\u001b[0m_run_symbolic_function\u001b[0m\u001b[0;34m(\u001b[0m\u001b[0;34m*\u001b[0m\u001b[0margs\u001b[0m\u001b[0;34m,\u001b[0m \u001b[0;34m**\u001b[0m\u001b[0mkwargs\u001b[0m\u001b[0;34m)\u001b[0m\u001b[0;34m\u001b[0m\u001b[0;34m\u001b[0m\u001b[0m\n\u001b[0m\u001b[1;32m    314\u001b[0m \u001b[0;34m\u001b[0m\u001b[0m\n\u001b[1;32m    315\u001b[0m \u001b[0;34m\u001b[0m\u001b[0m\n",
      "\u001b[0;32m~/miniconda3/lib/python3.8/site-packages/torch/onnx/utils.py\u001b[0m in \u001b[0;36m_run_symbolic_function\u001b[0;34m(g, block, n, inputs, env, operator_export_type)\u001b[0m\n\u001b[1;32m    988\u001b[0m                 \u001b[0;31m# Export it regularly\u001b[0m\u001b[0;34m\u001b[0m\u001b[0;34m\u001b[0m\u001b[0;34m\u001b[0m\u001b[0m\n\u001b[1;32m    989\u001b[0m                 \u001b[0mdomain\u001b[0m \u001b[0;34m=\u001b[0m \u001b[0;34m''\u001b[0m\u001b[0;34m\u001b[0m\u001b[0;34m\u001b[0m\u001b[0m\n\u001b[0;32m--> 990\u001b[0;31m                 \u001b[0msymbolic_fn\u001b[0m \u001b[0;34m=\u001b[0m \u001b[0m_find_symbolic_in_registry\u001b[0m\u001b[0;34m(\u001b[0m\u001b[0mdomain\u001b[0m\u001b[0;34m,\u001b[0m \u001b[0mop_name\u001b[0m\u001b[0;34m,\u001b[0m \u001b[0mopset_version\u001b[0m\u001b[0;34m,\u001b[0m \u001b[0moperator_export_type\u001b[0m\u001b[0;34m)\u001b[0m\u001b[0;34m\u001b[0m\u001b[0;34m\u001b[0m\u001b[0m\n\u001b[0m\u001b[1;32m    991\u001b[0m                 \u001b[0;32mif\u001b[0m \u001b[0msymbolic_fn\u001b[0m \u001b[0;32mis\u001b[0m \u001b[0;32mNone\u001b[0m\u001b[0;34m:\u001b[0m\u001b[0;34m\u001b[0m\u001b[0;34m\u001b[0m\u001b[0m\n\u001b[1;32m    992\u001b[0m                     \u001b[0;32mreturn\u001b[0m \u001b[0;32mNone\u001b[0m\u001b[0;34m\u001b[0m\u001b[0;34m\u001b[0m\u001b[0m\n",
      "\u001b[0;32m~/miniconda3/lib/python3.8/site-packages/torch/onnx/utils.py\u001b[0m in \u001b[0;36m_find_symbolic_in_registry\u001b[0;34m(domain, op_name, opset_version, operator_export_type)\u001b[0m\n\u001b[1;32m    942\u001b[0m             \u001b[0;31m# Use the original node directly\u001b[0m\u001b[0;34m\u001b[0m\u001b[0;34m\u001b[0m\u001b[0;34m\u001b[0m\u001b[0m\n\u001b[1;32m    943\u001b[0m             \u001b[0;32mreturn\u001b[0m \u001b[0;32mNone\u001b[0m\u001b[0;34m\u001b[0m\u001b[0;34m\u001b[0m\u001b[0m\n\u001b[0;32m--> 944\u001b[0;31m     \u001b[0;32mreturn\u001b[0m \u001b[0msym_registry\u001b[0m\u001b[0;34m.\u001b[0m\u001b[0mget_registered_op\u001b[0m\u001b[0;34m(\u001b[0m\u001b[0mop_name\u001b[0m\u001b[0;34m,\u001b[0m \u001b[0mdomain\u001b[0m\u001b[0;34m,\u001b[0m \u001b[0mopset_version\u001b[0m\u001b[0;34m)\u001b[0m\u001b[0;34m\u001b[0m\u001b[0;34m\u001b[0m\u001b[0m\n\u001b[0m\u001b[1;32m    945\u001b[0m \u001b[0;34m\u001b[0m\u001b[0m\n\u001b[1;32m    946\u001b[0m \u001b[0;34m\u001b[0m\u001b[0m\n",
      "\u001b[0;32m~/miniconda3/lib/python3.8/site-packages/torch/onnx/symbolic_registry.py\u001b[0m in \u001b[0;36mget_registered_op\u001b[0;34m(opname, domain, version)\u001b[0m\n\u001b[1;32m    114\u001b[0m         \u001b[0;32melse\u001b[0m\u001b[0;34m:\u001b[0m\u001b[0;34m\u001b[0m\u001b[0;34m\u001b[0m\u001b[0m\n\u001b[1;32m    115\u001b[0m             \u001b[0mmsg\u001b[0m \u001b[0;34m+=\u001b[0m \u001b[0;34m\"Please feel free to request support or submit a pull request on PyTorch GitHub.\"\u001b[0m\u001b[0;34m\u001b[0m\u001b[0;34m\u001b[0m\u001b[0m\n\u001b[0;32m--> 116\u001b[0;31m         \u001b[0;32mraise\u001b[0m \u001b[0mRuntimeError\u001b[0m\u001b[0;34m(\u001b[0m\u001b[0mmsg\u001b[0m\u001b[0;34m)\u001b[0m\u001b[0;34m\u001b[0m\u001b[0;34m\u001b[0m\u001b[0m\n\u001b[0m\u001b[1;32m    117\u001b[0m     \u001b[0;32mreturn\u001b[0m \u001b[0m_registry\u001b[0m\u001b[0;34m[\u001b[0m\u001b[0;34m(\u001b[0m\u001b[0mdomain\u001b[0m\u001b[0;34m,\u001b[0m \u001b[0mversion\u001b[0m\u001b[0;34m)\u001b[0m\u001b[0;34m]\u001b[0m\u001b[0;34m[\u001b[0m\u001b[0mopname\u001b[0m\u001b[0;34m]\u001b[0m\u001b[0;34m\u001b[0m\u001b[0;34m\u001b[0m\u001b[0m\n",
      "\u001b[0;31mRuntimeError\u001b[0m: Exporting the operator grid_sampler to ONNX opset version 13 is not supported. Please feel free to request support or submit a pull request on PyTorch GitHub."
     ]
    }
   ],
   "source": [
    "# Export the model\n",
    "torch.onnx.export(model.recognizer.module,            \n",
    "                  (recognizer_dummy_input, recognizer_dummy_text),\n",
    "                  out_recognizer_model,\n",
    "                  export_params=True,\n",
    "                  opset_version=13,\n",
    "                  do_constant_folding=True,\n",
    "                  input_names = ['input'],\n",
    "                  output_names = ['output'],\n",
    "                  dynamic_axes={'input' : {0:'batch_size', 2:'height', 3:'width'},\n",
    "                                'output' : {0:'batch_size'}})"
   ]
  },
  {
   "cell_type": "markdown",
   "id": "brave-mortality",
   "metadata": {},
   "source": [
    "## Inspecting Model"
   ]
  },
  {
   "cell_type": "code",
   "execution_count": null,
   "id": "excited-parallel",
   "metadata": {},
   "outputs": [],
   "source": [
    "# Load the ONNX model\n",
    "onnx_model = onnx.load(out_recognizer_model)\n",
    "\n",
    "# Check that the IR is well formed\n",
    "onnx.checker.check_model(onnx_model)\n",
    "\n",
    "# Print a human readable representation of the graph\n",
    "print(onnx.helper.printable_graph(onnx_model.graph))"
   ]
  },
  {
   "cell_type": "code",
   "execution_count": null,
   "id": "human-boating",
   "metadata": {},
   "outputs": [],
   "source": []
  }
 ],
 "metadata": {
  "kernelspec": {
   "display_name": "base",
   "language": "python",
   "name": "base"
  },
  "language_info": {
   "codemirror_mode": {
    "name": "ipython",
    "version": 3
   },
   "file_extension": ".py",
   "mimetype": "text/x-python",
   "name": "python",
   "nbconvert_exporter": "python",
   "pygments_lexer": "ipython3",
   "version": "3.8.3"
  }
 },
 "nbformat": 4,
 "nbformat_minor": 5
}
