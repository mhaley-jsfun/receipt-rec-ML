{
 "cells": [
  {
   "cell_type": "code",
   "execution_count": 1,
   "id": "beginning-council",
   "metadata": {},
   "outputs": [],
   "source": [
    "from model import ReceiptOCR_Model\n",
    "from engine import ReceiptOCR_Engine"
   ]
  },
  {
   "cell_type": "markdown",
   "id": "tracked-frank",
   "metadata": {},
   "source": [
    "## Load model network and weight"
   ]
  },
  {
   "cell_type": "code",
   "execution_count": 2,
   "id": "completed-verse",
   "metadata": {},
   "outputs": [
    {
     "name": "stdout",
     "output_type": "stream",
     "text": [
      "Loading weights from checkpoint (text_detector/model/craft_mlt_25k.pth)\n"
     ]
    }
   ],
   "source": [
    "model = ReceiptOCR_Model('text_detector/craft_config.yaml')"
   ]
  },
  {
   "cell_type": "markdown",
   "id": "bacterial-friendly",
   "metadata": {},
   "source": [
    "## Load Engine"
   ]
  },
  {
   "cell_type": "code",
   "execution_count": 3,
   "id": "civil-clinic",
   "metadata": {},
   "outputs": [],
   "source": [
    "engine = ReceiptOCR_Engine(model)"
   ]
  },
  {
   "cell_type": "code",
   "execution_count": 4,
   "id": "union-dealing",
   "metadata": {
    "scrolled": true
   },
   "outputs": [
    {
     "name": "stderr",
     "output_type": "stream",
     "text": [
      "/home/ryx/miniconda3/lib/python3.8/site-packages/torch/nn/functional.py:718: UserWarning: Named tensors and all their associated APIs are an experimental feature and subject to change. Please do not use them for anything important until they are released as stable. (Triggered internally at  /pytorch/c10/core/TensorImpl.h:1156.)\n",
      "  return torch.max_pool2d(input, kernel_size, stride, padding, dilation, ceil_mode)\n"
     ]
    }
   ],
   "source": [
    "output = engine.infer('image.jpg')"
   ]
  },
  {
   "cell_type": "code",
   "execution_count": 11,
   "id": "burning-limit",
   "metadata": {},
   "outputs": [
    {
     "data": {
      "text/plain": [
       "(92,)"
      ]
     },
     "execution_count": 11,
     "metadata": {},
     "output_type": "execute_result"
    }
   ],
   "source": [
    "output.shape"
   ]
  },
  {
   "cell_type": "code",
   "execution_count": null,
   "id": "novel-annotation",
   "metadata": {},
   "outputs": [],
   "source": []
  }
 ],
 "metadata": {
  "kernelspec": {
   "display_name": "Python 3",
   "language": "python",
   "name": "python3"
  },
  "language_info": {
   "codemirror_mode": {
    "name": "ipython",
    "version": 3
   },
   "file_extension": ".py",
   "mimetype": "text/x-python",
   "name": "python",
   "nbconvert_exporter": "python",
   "pygments_lexer": "ipython3",
   "version": "3.8.3"
  }
 },
 "nbformat": 4,
 "nbformat_minor": 5
}
