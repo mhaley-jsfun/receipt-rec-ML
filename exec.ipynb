{
 "cells": [
  {
   "cell_type": "code",
   "execution_count": 1,
   "id": "frank-mystery",
   "metadata": {},
   "outputs": [],
   "source": [
    "import warnings\n",
    "warnings.filterwarnings(\"ignore\")\n",
    "\n",
    "from model import ReceiptOCR_Model\n",
    "from engine import ReceiptOCR_Engine"
   ]
  },
  {
   "cell_type": "markdown",
   "id": "chemical-distributor",
   "metadata": {},
   "source": [
    "## Load model network and weight"
   ]
  },
  {
   "cell_type": "code",
   "execution_count": 2,
   "id": "noble-dayton",
   "metadata": {},
   "outputs": [
    {
     "name": "stdout",
     "output_type": "stream",
     "text": [
      "Loading weights from checkpoint (text_detector/model/craft_mlt_25k.pth)\n"
     ]
    }
   ],
   "source": [
    "detector_cfg = 'text_detector/craft_config.yaml'\n",
    "recognizer_cfg = 'text_recognizer/star_config.yaml'\n",
    "\n",
    "model = ReceiptOCR_Model(detector_cfg, recognizer_cfg)"
   ]
  },
  {
   "cell_type": "markdown",
   "id": "going-insurance",
   "metadata": {},
   "source": [
    "## Load Engine"
   ]
  },
  {
   "cell_type": "code",
   "execution_count": 3,
   "id": "formal-bottom",
   "metadata": {},
   "outputs": [],
   "source": [
    "engine = ReceiptOCR_Engine(model)"
   ]
  },
  {
   "cell_type": "code",
   "execution_count": 5,
   "id": "fifth-rebel",
   "metadata": {
    "scrolled": true
   },
   "outputs": [],
   "source": [
    "engine.predict('image.jpg')"
   ]
  },
  {
   "cell_type": "code",
   "execution_count": 14,
   "id": "emotional-discharge",
   "metadata": {
    "scrolled": true
   },
   "outputs": [
    {
     "data": {
      "text/plain": [
       "array([[[255, 255, 255],\n",
       "        [255, 255, 255],\n",
       "        [255, 255, 255],\n",
       "        ...,\n",
       "        [255, 255, 255],\n",
       "        [255, 255, 255],\n",
       "        [255, 255, 255]],\n",
       "\n",
       "       [[255, 255, 255],\n",
       "        [255, 255, 255],\n",
       "        [255, 255, 255],\n",
       "        ...,\n",
       "        [255, 255, 255],\n",
       "        [255, 255, 255],\n",
       "        [255, 255, 255]],\n",
       "\n",
       "       [[255, 255, 255],\n",
       "        [255, 255, 255],\n",
       "        [255, 255, 255],\n",
       "        ...,\n",
       "        [255, 255, 255],\n",
       "        [255, 255, 255],\n",
       "        [255, 255, 255]],\n",
       "\n",
       "       ...,\n",
       "\n",
       "       [[255, 255, 255],\n",
       "        [255, 255, 255],\n",
       "        [255, 255, 255],\n",
       "        ...,\n",
       "        [255, 255, 255],\n",
       "        [255, 255, 255],\n",
       "        [255, 255, 255]],\n",
       "\n",
       "       [[255, 255, 255],\n",
       "        [255, 255, 255],\n",
       "        [247, 247, 247],\n",
       "        ...,\n",
       "        [255, 255, 255],\n",
       "        [255, 255, 255],\n",
       "        [255, 255, 255]],\n",
       "\n",
       "       [[255, 255, 255],\n",
       "        [255, 255, 255],\n",
       "        [255, 255, 255],\n",
       "        ...,\n",
       "        [255, 255, 255],\n",
       "        [255, 255, 255],\n",
       "        [255, 255, 255]]], dtype=uint8)"
      ]
     },
     "execution_count": 14,
     "metadata": {},
     "output_type": "execute_result"
    }
   ],
   "source": [
    "engine._imgs[0]"
   ]
  },
  {
   "cell_type": "code",
   "execution_count": null,
   "id": "descending-portland",
   "metadata": {},
   "outputs": [],
   "source": []
  }
 ],
 "metadata": {
  "kernelspec": {
   "display_name": "Python 3",
   "language": "python",
   "name": "python3"
  },
  "language_info": {
   "codemirror_mode": {
    "name": "ipython",
    "version": 3
   },
   "file_extension": ".py",
   "mimetype": "text/x-python",
   "name": "python",
   "nbconvert_exporter": "python",
   "pygments_lexer": "ipython3",
   "version": "3.8.3"
  }
 },
 "nbformat": 4,
 "nbformat_minor": 5
}
