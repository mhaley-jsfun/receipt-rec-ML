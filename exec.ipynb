{
 "cells": [
  {
   "cell_type": "code",
   "execution_count": 1,
   "id": "sustained-document",
   "metadata": {},
   "outputs": [],
   "source": [
    "import warnings\n",
    "warnings.filterwarnings(\"ignore\")\n",
    "\n",
    "from model import ReceiptOCR_Model\n",
    "from engine import ReceiptOCR_Engine"
   ]
  },
  {
   "cell_type": "markdown",
   "id": "ordinary-speed",
   "metadata": {},
   "source": [
    "## Load model network and weight"
   ]
  },
  {
   "cell_type": "code",
   "execution_count": 2,
   "id": "backed-strategy",
   "metadata": {},
   "outputs": [
    {
     "name": "stdout",
     "output_type": "stream",
     "text": [
      "Loading weights from checkpoint (text_detector/model/craft_mlt_25k.pth)\n",
      "Loading weights from checkpoint (text_recognizer/model/TPS-ResNet-BiLSTM-Attn-case-sensitive.pth)\n"
     ]
    }
   ],
   "source": [
    "detector_cfg = 'text_detector/craft_config.yaml'\n",
    "recognizer_cfg = 'text_recognizer/star_config.yaml'\n",
    "\n",
    "model = ReceiptOCR_Model(detector_cfg, recognizer_cfg)"
   ]
  },
  {
   "cell_type": "markdown",
   "id": "noble-microphone",
   "metadata": {},
   "source": [
    "## Load Engine"
   ]
  },
  {
   "cell_type": "code",
   "execution_count": 3,
   "id": "japanese-enhancement",
   "metadata": {},
   "outputs": [],
   "source": [
    "engine = ReceiptOCR_Engine(model)"
   ]
  },
  {
   "cell_type": "code",
   "execution_count": 4,
   "id": "working-asbestos",
   "metadata": {},
   "outputs": [
    {
     "name": "stdout",
     "output_type": "stream",
     "text": [
      "'inference_detector'  5.22 s\n",
      "'inference_recognizer'  4.76 s\n",
      "'predict'  10.04 s\n"
     ]
    }
   ],
   "source": [
    "engine.predict('tes.jpeg')"
   ]
  },
  {
   "cell_type": "code",
   "execution_count": 5,
   "id": "arbitrary-commander",
   "metadata": {
    "scrolled": true
   },
   "outputs": [
    {
     "data": {
      "text/plain": [
       "[('Kedai', tensor(0.9998), (304, 360, 198, 308)),\n",
       " ('Kopi', tensor(0.9999), (308, 368, 321, 412)),\n",
       " ('OH', tensor(0.8637), (310, 360, 424, 476)),\n",
       " ('Taman', tensor(0.9997), (374, 404, 90, 150)),\n",
       " ('Kopo', tensor(0.9997), (374, 406, 150, 202)),\n",
       " ('Indah', tensor(0.9999), (376, 404, 204, 262)),\n",
       " ('2', tensor(0.9987), (376, 404, 264, 280)),\n",
       " ('Blok.', tensor(0.6244), (376, 406, 284, 342)),\n",
       " ('Bandung,', tensor(0.9971), (376, 409, 476, 565)),\n",
       " ('Barat,', tensor(0.9978), (402, 432, 294, 362)),\n",
       " ('awa', tensor(1.0000), (406, 430, 254, 292)),\n",
       " ('08212933870B', tensor(0.5089), (426, 456, 274, 404)),\n",
       " ('2021', tensor(0.9974), (474, 504, 160, 210)),\n",
       " ('12', tensor(0.9995), (476, 504, 90, 118)),\n",
       " ('Sep', tensor(1.0000), (476, 504, 120, 160)),\n",
       " ('18:14', tensor(0.9980), (476, 506, 528, 586)),\n",
       " ('Receipt', tensor(0.9992), (500, 531, 90, 169)),\n",
       " ('Number', tensor(0.9998), (500, 528, 172, 242)),\n",
       " ('ID', tensor(0.9946), (524, 554, 152, 180)),\n",
       " ('6SU0022', tensor(0.6241), (524, 556, 506, 586)),\n",
       " ('Order', tensor(0.9998), (526, 554, 92, 148)),\n",
       " ('Bill', tensor(0.9972), (550, 580, 92, 138)),\n",
       " ('Name', tensor(0.9999), (550, 580, 140, 190)),\n",
       " ('Table', tensor(0.9998), (550, 582, 508, 566)),\n",
       " ('6', tensor(0.9998), (554, 578, 570, 584)),\n",
       " ('Served', tensor(0.9999), (576, 604, 92, 160)),\n",
       " ('By', tensor(0.9999), (576, 606, 160, 190)),\n",
       " ('Waitress', tensor(0.9968), (576, 606, 436, 526)),\n",
       " ('Kopo', tensor(0.9997), (576, 606, 528, 578)),\n",
       " ('By', tensor(1.0000), (600, 632, 192, 220)),\n",
       " ('Collected', tensor(0.9971), (602, 630, 94, 190)),\n",
       " ('Kasir', tensor(0.9995), (602, 630, 456, 516)),\n",
       " ('Kopo', tensor(0.9991), (602, 632, 518, 568)),\n",
       " ('Dine', tensor(0.9998), (652, 682, 300, 352)),\n",
       " ('In', tensor(0.9994), (652, 680, 354, 382)),\n",
       " ('30.000', tensor(0.9795), (700, 730, 518, 588)),\n",
       " ('M2', tensor(0.9711), (702, 730, 92, 122)),\n",
       " ('Lo', tensor(0.9957), (702, 732, 142, 172)),\n",
       " ('Mie', tensor(0.9998), (702, 732, 172, 212)),\n",
       " ('Kedai', tensor(0.9990), (702, 732, 212, 272)),\n",
       " ('Oh', tensor(0.9990), (702, 732, 276, 304)),\n",
       " ('Rp', tensor(0.9998), (702, 732, 490, 518)),\n",
       " ('x1', tensor(0.6209), (704, 734, 348, 374)),\n",
       " ('Mie', tensor(0.9994), (726, 756, 100, 140)),\n",
       " ('6.000', tensor(0.9887), (750, 780, 530, 588)),\n",
       " ('W1', tensor(0.8755), (752, 780, 92, 122)),\n",
       " ('Air', tensor(0.9999), (752, 780, 142, 182)),\n",
       " ('Mineral', tensor(0.9998), (752, 782, 182, 262)),\n",
       " ('Rp', tensor(0.9998), (754, 782, 500, 530)),\n",
       " ('Biasa', tensor(0.9991), (776, 804, 102, 160)),\n",
       " ('T4', tensor(0.7685), (800, 828, 94, 124)),\n",
       " ('Teh', tensor(0.9975), (802, 830, 144, 184)),\n",
       " ('Tarik', tensor(0.9997), (802, 830, 184, 244)),\n",
       " ('11.000', tensor(0.8428), (802, 830, 520, 588)),\n",
       " ('Rp', tensor(0.9997), (804, 832, 490, 520)),\n",
       " ('Es', tensor(0.9998), (826, 852, 104, 132)),\n",
       " ('Teh', tensor(0.9974), (826, 854, 134, 172)),\n",
       " ('Tarik', tensor(0.9996), (826, 854, 174, 232)),\n",
       " ('N1', tensor(0.9302), (848, 876, 98, 124)),\n",
       " ('32.000', tensor(0.9860), (849, 882, 518, 589)),\n",
       " ('Nasi', tensor(0.9996), (850, 878, 146, 194)),\n",
       " ('Lemak', tensor(0.9999), (850, 878, 196, 256)),\n",
       " ('Rp', tensor(0.9995), (854, 882, 490, 518)),\n",
       " ('Beef', tensor(0.9997), (872, 900, 106, 152)),\n",
       " ('MIS', tensor(0.5724), (896, 926, 98, 138)),\n",
       " ('Jeruk', tensor(0.9998), (898, 926, 158, 216)),\n",
       " ('14.000', tensor(0.8863), (898, 930, 518, 587)),\n",
       " ('Rp', tensor(0.9990), (902, 928, 488, 518)),\n",
       " ('Es', tensor(0.9996), (922, 948, 108, 136)),\n",
       " ('Jeruk', tensor(0.9998), (922, 948, 136, 196)),\n",
       " ('Nipis', tensor(0.9985), (922, 950, 196, 254)),\n",
       " ('K1', tensor(0.9909), (944, 972, 100, 126)),\n",
       " ('Kopi', tensor(0.9614), (944, 974, 148, 196)),\n",
       " ('Oh', tensor(0.9884), (946, 972, 198, 228)),\n",
       " ('8.000', tensor(0.9351), (948, 976, 526, 586)),\n",
       " ('Rp', tensor(0.9994), (950, 978, 498, 528)),\n",
       " ('Hot', tensor(0.9999), (968, 996, 108, 144)),\n",
       " ('Kopi', tensor(0.9979), (968, 998, 148, 194)),\n",
       " ('Oh', tensor(0.9932), (968, 996, 196, 226)),\n",
       " ('Roti', tensor(0.9999), (992, 1020, 160, 206)),\n",
       " ('Bakar', tensor(0.9994), (992, 1020, 210, 266)),\n",
       " ('KO', tensor(0.9549), (992, 1020, 268, 298)),\n",
       " ('RB2', tensor(0.9927), (994, 1020, 100, 138)),\n",
       " ('Rp', tensor(0.9986), (996, 1024, 488, 516)),\n",
       " ('13.000', tensor(0.9136), (996, 1024, 518, 586)),\n",
       " ('Rasa', tensor(0.9999), (1018, 1046, 128, 176)),\n",
       " ('Keju', tensor(0.9987), (1038, 1068, 256, 306)),\n",
       " ('0', tensor(0.7149), (1038, 1064, 336, 354)),\n",
       " ('RBKO', tensor(0.9914), (1040, 1068, 188, 236)),\n",
       " ('Rp', tensor(0.9994), (1040, 1068, 306, 336)),\n",
       " ('Toppi', tensor(0.7892), (1042, 1070, 110, 156)),\n",
       " ('ing', tensor(0.9972), (1042, 1070, 150, 186)),\n",
       " ('Rp', tensor(0.9986), (1086, 1114, 476, 504)),\n",
       " ('Subtotal', tensor(0.9964), (1088, 1116, 100, 186)),\n",
       " ('Rp', tensor(0.9982), (1110, 1140, 484, 514)),\n",
       " ('PB1', tensor(0.9561), (1112, 1140, 102, 138)),\n",
       " ('(10%)', tensor(0.9563), (1112, 1142, 142, 196)),\n",
       " ('Rp', tensor(0.9974), (1158, 1186, 474, 502)),\n",
       " ('Total', tensor(0.9986), (1160, 1188, 102, 158)),\n",
       " ('400', tensor(0.9990), (1160, 1190, 544, 582)),\n",
       " ('Rp', tensor(0.9989), (1180, 1210, 474, 502)),\n",
       " ('BCA', tensor(0.9656), (1182, 1210, 102, 140)),\n",
       " ('400', tensor(0.9989), (1186, 1216, 544, 582))]"
      ]
     },
     "execution_count": 5,
     "metadata": {},
     "output_type": "execute_result"
    }
   ],
   "source": [
    "engine.raw_output"
   ]
  },
  {
   "cell_type": "code",
   "execution_count": 6,
   "id": "perceived-remark",
   "metadata": {
    "scrolled": true
   },
   "outputs": [
    {
     "data": {
      "text/plain": [
       "['Kedai Kopi OH',\n",
       " 'Taman Kopo Indah 2 Blok. Bandung,',\n",
       " 'awa Barat,',\n",
       " '08212933870B',\n",
       " '12 Sep 2021 18:14',\n",
       " 'Receipt Number',\n",
       " 'Order ID 6SU0022',\n",
       " 'Bill Name Table 6',\n",
       " 'Served By Waitress Kopo',\n",
       " 'Collected By Kasir Kopo',\n",
       " 'Dine In',\n",
       " 'M2 Lo Mie Kedai Oh x1 Rp 30.000',\n",
       " 'Mie',\n",
       " 'W1 Air Mineral Rp 6.000',\n",
       " 'Biasa',\n",
       " 'T4 Teh Tarik Rp 11.000',\n",
       " 'Es Teh Tarik',\n",
       " 'N1 Beef Nasi Lemak Rp 32.000',\n",
       " 'MIS Jeruk Rp 14.000',\n",
       " 'Es Jeruk Nipis',\n",
       " 'K1 Hot Kopi Kopi Oh Oh Rp 8.000',\n",
       " 'RB2 Roti Bakar KO Rp 13.000',\n",
       " 'Rasa',\n",
       " 'Toppi ing RBKO Keju Rp 0',\n",
       " 'Subtotal Rp',\n",
       " 'PB1 (10%) Rp',\n",
       " 'Total Rp 400']"
      ]
     },
     "execution_count": 6,
     "metadata": {},
     "output_type": "execute_result"
    }
   ],
   "source": [
    "engine.result"
   ]
  },
  {
   "cell_type": "code",
   "execution_count": null,
   "id": "raised-visitor",
   "metadata": {},
   "outputs": [],
   "source": []
  }
 ],
 "metadata": {
  "kernelspec": {
   "display_name": "Python 3",
   "language": "python",
   "name": "python3"
  },
  "language_info": {
   "codemirror_mode": {
    "name": "ipython",
    "version": 3
   },
   "file_extension": ".py",
   "mimetype": "text/x-python",
   "name": "python",
   "nbconvert_exporter": "python",
   "pygments_lexer": "ipython3",
   "version": "3.8.3"
  }
 },
 "nbformat": 4,
 "nbformat_minor": 5
}
